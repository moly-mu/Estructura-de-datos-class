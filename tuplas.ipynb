{
 "cells": [
  {
   "cell_type": "code",
   "execution_count": 1,
   "id": "168d704e",
   "metadata": {},
   "outputs": [
    {
     "name": "stdout",
     "output_type": "stream",
     "text": [
      "Defaulting to user installation because normal site-packages is not writeable\n",
      "Requirement already satisfied: numpy in c:\\programdata\\anaconda3\\lib\\site-packages (1.26.4)\n",
      "Note: you may need to restart the kernel to use updated packages.\n"
     ]
    }
   ],
   "source": [
    "pip install numpy\n"
   ]
  },
  {
   "cell_type": "code",
   "execution_count": 2,
   "id": "bb5b6c54",
   "metadata": {},
   "outputs": [
    {
     "name": "stdout",
     "output_type": "stream",
     "text": [
      "(1, 1, 2, 2, 3, 3)\n"
     ]
    }
   ],
   "source": [
    "t = (1,1,2,2,3,3)\n",
    "print(t)"
   ]
  },
  {
   "cell_type": "code",
   "execution_count": null,
   "id": "6f2ae7c5",
   "metadata": {},
   "outputs": [],
   "source": [
    "#lista = [1,2,3]\n",
    "\n",
    "#tupla = (1,2,3)\n",
    "\n",
    "#si deja modificar \n",
    "#lista[0]=10\n",
    "\n",
    "#no se puede modificar un valor, da error\n",
    "#tupla[0]=10"
   ]
  },
  {
   "cell_type": "code",
   "execution_count": null,
   "id": "6eca7fc3",
   "metadata": {},
   "outputs": [],
   "source": [
    "\n",
    "#coor = (40.3452, -74.2345)\n",
    "# coor[0] = 41.0  da error porque es inmutable\n"
   ]
  },
  {
   "cell_type": "code",
   "execution_count": null,
   "id": "65968b90",
   "metadata": {},
   "outputs": [],
   "source": [
    "tupla1 = (1,2,3)  #tupla con enteros\n",
    "tupla2 = (\"a\", \"b\", \"c\") #tupla con cadenas de texto\n",
    "tupla3 = (1, \"holis\", 3.5) #tupla con tipos mixtos\n",
    "tupla4 = () #tupla vacía\n",
    "tupla5 = (5,) #tupla con un solo elemento\n",
    "\n",
    "#para que sea una tupla de un solo elemento, debe llevar una coma al final (5,)"
   ]
  },
  {
   "cell_type": "code",
   "execution_count": null,
   "id": "b330e773",
   "metadata": {},
   "outputs": [],
   "source": [
    "tupla = (\"Python\", 2025, True)\n",
    "print(tupla[0]) #accede al primer elemento\n",
    "print(tupla[1]) \n",
    "print(tupla[-1])"
   ]
  },
  {
   "cell_type": "code",
   "execution_count": null,
   "id": "5d3fc84f",
   "metadata": {},
   "outputs": [],
   "source": [
    "\n",
    "tupla = (10, 20, 30, 40, 50)\n",
    "\n",
    "print(tupla[1:4]) # del indice 1 al 3 (20, 30,40)\n",
    "print(tupla[:3]) #desde el inicio hasta el indice 2 (10, 20 30)\n",
    "print(tupla[::2]) #saltando de 2 en 2 (10, 30, 50)"
   ]
  },
  {
   "cell_type": "code",
   "execution_count": null,
   "id": "06bb6021",
   "metadata": {},
   "outputs": [],
   "source": [
    "colores = (\"rojo\", \"verde\", \"azul\")\n",
    "\n",
    "for color in colores:\n",
    "    print(color)"
   ]
  },
  {
   "cell_type": "code",
   "execution_count": null,
   "id": "f1d317fd",
   "metadata": {},
   "outputs": [],
   "source": [
    "t = ((1,2), (3,4)), (5,6)\n",
    "\n",
    "print(t[0])\n",
    "print(t[0][1])"
   ]
  },
  {
   "cell_type": "code",
   "execution_count": 3,
   "id": "ca0b62cf",
   "metadata": {},
   "outputs": [
    {
     "name": "stdout",
     "output_type": "stream",
     "text": [
      "(1, 2, 3, 4, 5, 6)\n"
     ]
    }
   ],
   "source": [
    "t1 = (1,2,3)\n",
    "t2 = (4,5,6)\n",
    "\n",
    "rs = t1 + t2\n",
    "\n",
    "print(rs) #(1,2,3,4,5,6)"
   ]
  },
  {
   "cell_type": "code",
   "execution_count": 4,
   "id": "818e7dc6",
   "metadata": {},
   "outputs": [
    {
     "name": "stdout",
     "output_type": "stream",
     "text": [
      "('python', 'python', 'python')\n"
     ]
    }
   ],
   "source": [
    "t = (\"python\",) *3\n",
    "\n",
    "print(t) #('python','python','python')"
   ]
  },
  {
   "cell_type": "code",
   "execution_count": 5,
   "id": "15587f43",
   "metadata": {},
   "outputs": [
    {
     "name": "stdout",
     "output_type": "stream",
     "text": [
      "True\n",
      "False\n"
     ]
    }
   ],
   "source": [
    "t = (10,20,30,40)\n",
    "\n",
    "print(20 in t) #true\n",
    "print(20 not in t) #true"
   ]
  },
  {
   "cell_type": "code",
   "execution_count": 6,
   "id": "abda7701",
   "metadata": {},
   "outputs": [
    {
     "name": "stdout",
     "output_type": "stream",
     "text": [
      "Darian\n",
      "18\n",
      "Colombia\n"
     ]
    }
   ],
   "source": [
    "persona = (\"Darian\", 18, \"Colombia\")\n",
    "nombre, edad, pais = persona\n",
    "\n",
    "print(nombre)\n",
    "print(edad)\n",
    "print(pais)"
   ]
  },
  {
   "cell_type": "code",
   "execution_count": 7,
   "id": "e40cc048",
   "metadata": {},
   "outputs": [
    {
     "name": "stdout",
     "output_type": "stream",
     "text": [
      "2\n",
      "3\n"
     ]
    }
   ],
   "source": [
    "t = (1,2,2,3,4)\n",
    "\n",
    "print(t.count(2)) #2\n",
    "print(t.index(3)) #3"
   ]
  },
  {
   "cell_type": "code",
   "execution_count": 8,
   "id": "9635ccd0",
   "metadata": {},
   "outputs": [
    {
     "name": "stdout",
     "output_type": "stream",
     "text": [
      "4\n",
      "7\n",
      "1\n",
      "16\n",
      "[1, 3, 5, 7]\n"
     ]
    }
   ],
   "source": [
    "t = (5,1,7,3)\n",
    "\n",
    "print(len(t)) #elemtos #4\n",
    "print(max(t)) #elemento mayor #7\n",
    "print(min(t)) #elemento menor #1\n",
    "print(sum(t)) #suma todo16\n",
    "print(sorted(t)) #lista ordenada [1,3,5,7]"
   ]
  },
  {
   "cell_type": "code",
   "execution_count": 9,
   "id": "45690208",
   "metadata": {},
   "outputs": [
    {
     "name": "stdout",
     "output_type": "stream",
     "text": [
      "(1, 2, 3)\n",
      "[1, 2, 3]\n"
     ]
    }
   ],
   "source": [
    "lista = [1,2,3]\n",
    "tupla = tuple(lista)\n",
    "print(tupla) #(1,2,3)\n",
    "\n",
    "nueva_lista = list(tupla)\n",
    "print(nueva_lista) #[1,2,3]"
   ]
  },
  {
   "cell_type": "code",
   "execution_count": null,
   "id": "6cffbc53",
   "metadata": {},
   "outputs": [],
   "source": [
    "persona = (\"Darian\", 18, \"Colombia\")\n",
    "\n",
    "#acceder a cada atributo usando indices \n",
    "print(\"Nombre:\", persona[0])\n",
    "print(\"Edad:\", persona[1])\n",
    "print(\"Pais:\", persona[2])\n",
    "\n",
    "#util cuando los datos no deben cambiar"
   ]
  },
  {
   "cell_type": "code",
   "execution_count": 10,
   "id": "562b9190",
   "metadata": {},
   "outputs": [
    {
     "name": "stdout",
     "output_type": "stream",
     "text": [
      "{(10, 20): 'Ubicacion A'}\n"
     ]
    }
   ],
   "source": [
    "coor = {}\n",
    "\n",
    "punto = (10,20)\n",
    "\n",
    "coor[punto] = \"Ubicacion A\"\n",
    "print(coor) #{(10,20): 'Ubicacion A}"
   ]
  },
  {
   "cell_type": "code",
   "execution_count": null,
   "id": "39152488",
   "metadata": {},
   "outputs": [],
   "source": [
    "def ope(a,b):\n",
    "    return a+b, a-b, a*b\n",
    "\n",
    "suma, resta, pro = ope(5,3)\n",
    "print(suma,resta,pro) #8 2 15"
   ]
  }
 ],
 "metadata": {
  "kernelspec": {
   "display_name": "base",
   "language": "python",
   "name": "python3"
  },
  "language_info": {
   "codemirror_mode": {
    "name": "ipython",
    "version": 3
   },
   "file_extension": ".py",
   "mimetype": "text/x-python",
   "name": "python",
   "nbconvert_exporter": "python",
   "pygments_lexer": "ipython3",
   "version": "3.12.7"
  }
 },
 "nbformat": 4,
 "nbformat_minor": 5
}
