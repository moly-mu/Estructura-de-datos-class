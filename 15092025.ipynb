{
  "nbformat": 4,
  "nbformat_minor": 0,
  "metadata": {
    "colab": {
      "provenance": []
    },
    "kernelspec": {
      "name": "python3",
      "display_name": "Python 3"
    },
    "language_info": {
      "name": "python"
    }
  },
  "cells": [
    {
      "cell_type": "code",
      "source": [
        "# Crea un conjunto (set) a partir de una lista con elementos repetidos\n",
        "s = set([5, 4, 8, 8, 1])\n",
        "\n",
        "# Imprime el conjunto\n",
        "print(s)  # Los conjuntos eliminan los duplicados, el orden no está garantizado\n",
        "\n",
        "# Imprime el tipo de la variable 's'\n",
        "print(type(s))  # <class 'set'>"
      ],
      "metadata": {
        "id": "USD-m76_mXmF"
      },
      "execution_count": null,
      "outputs": []
    },
    {
      "cell_type": "code",
      "source": [
        "lista = [\"Perú\", \"Argentina\"]\n",
        "s = set([\"México\", \"España\"] + lista)  # Concatenar listas antes de crear el set\n",
        "print(s)"
      ],
      "metadata": {
        "id": "rlETK79-kIFE"
      },
      "execution_count": null,
      "outputs": []
    },
    {
      "cell_type": "code",
      "source": [
        "# Crea un conjunto con los números 5, 6, 7 y 8\n",
        "s = set([5, 6, 7, 8])\n",
        "\n",
        "# Recorre cada elemento del conjunto y lo imprime\n",
        "for ss in s:\n",
        "    print(ss)"
      ],
      "metadata": {
        "colab": {
          "base_uri": "https://localhost:8080/"
        },
        "id": "UcArbMqclnvE",
        "outputId": "61aff10b-bbb8-4c49-c244-ed168e5e9b25"
      },
      "execution_count": null,
      "outputs": [
        {
          "output_type": "stream",
          "name": "stdout",
          "text": [
            "8\n",
            "5\n",
            "6\n",
            "7\n"
          ]
        }
      ]
    },
    {
      "cell_type": "code",
      "source": [
        "# Crea un conjunto con elementos, algunos repetidos\n",
        "s = set([1, 2, 2, 3, 4])\n",
        "\n",
        "# Imprime la cantidad de elementos únicos en el conjunto\n",
        "print(len(s))  # Salida: 4"
      ],
      "metadata": {
        "colab": {
          "base_uri": "https://localhost:8080/"
        },
        "id": "sikekDwPmnrt",
        "outputId": "e8dd8cae-c0c1-4944-becb-3306b368bec7"
      },
      "execution_count": null,
      "outputs": [
        {
          "output_type": "stream",
          "name": "stdout",
          "text": [
            "4\n"
          ]
        }
      ]
    },
    {
      "cell_type": "code",
      "source": [
        "# Crea un conjunto con los elementos \"Chocolate\", \"Tortas\" y \"Tartaletas\"\n",
        "s = set([\"Chocolate\", \"Tortas\", \"Tartaletas\"])\n",
        "\n",
        "# Imprime la cantidad de elementos únicos en el conjunto\n",
        "print(len(s))  # Salida: 3\n",
        "\n",
        "# Imprime el tipo de la variable 's'\n",
        "print(type(s))  # Salida: <class 'set'>"
      ],
      "metadata": {
        "colab": {
          "base_uri": "https://localhost:8080/"
        },
        "id": "4rD5xKTrm4xd",
        "outputId": "d3ac543d-4b77-480f-f75d-4f5f35940870"
      },
      "execution_count": null,
      "outputs": [
        {
          "output_type": "stream",
          "name": "stdout",
          "text": [
            "3\n",
            "<class 'set'>\n"
          ]
        }
      ]
    },
    {
      "cell_type": "code",
      "source": [
        "# Crea un conjunto con los elementos \"Guitarra\" y \"Bajo\"\n",
        "s = set([\"Guitarra\", \"Bajo\"])\n",
        "\n",
        "# Comprueba si el elemento \"Guitarra\" está en el conjunto 's'\n",
        "print(\"Guitarra\" in s)  # Salida: True"
      ],
      "metadata": {
        "colab": {
          "base_uri": "https://localhost:8080/"
        },
        "id": "j65HdWEcnii-",
        "outputId": "fe28f7dc-5d2c-4fda-e05a-9366d1417819"
      },
      "execution_count": null,
      "outputs": [
        {
          "output_type": "stream",
          "name": "stdout",
          "text": [
            "True\n"
          ]
        }
      ]
    },
    {
      "cell_type": "code",
      "source": [
        "s = set([\"Guitarra\", \"Bajo\"])\n",
        "print(\"Perro\" in s)#False"
      ],
      "metadata": {
        "colab": {
          "base_uri": "https://localhost:8080/"
        },
        "id": "x6VgzBmWoDkd",
        "outputId": "8406377d-8b17-4bc1-e5b6-181e587cd343"
      },
      "execution_count": null,
      "outputs": [
        {
          "output_type": "stream",
          "name": "stdout",
          "text": [
            "False\n"
          ]
        }
      ]
    },
    {
      "cell_type": "code",
      "source": [
        "# Define dos conjuntos con algunos elementos en común y otros distintos\n",
        "s1 = set([1, 2, 3])\n",
        "s2 = set([3, 4, 5])\n",
        "\n",
        "# Une ambos conjuntos usando la unión (union), que junta todos los elementos sin repetir\n",
        "s3 = s1.union(s2)\n",
        "\n",
        "# Imprime el conjunto resultante de la unión\n",
        "print(s3)  # Salida: {1, 2, 3, 4, 5}"
      ],
      "metadata": {
        "colab": {
          "base_uri": "https://localhost:8080/"
        },
        "id": "b5f030Y8oKFO",
        "outputId": "22382a1e-8a85-4cc6-85f7-ffcb026f0196"
      },
      "execution_count": null,
      "outputs": [
        {
          "output_type": "stream",
          "name": "stdout",
          "text": [
            "{1, 2, 3, 4, 5}\n"
          ]
        }
      ]
    },
    {
      "cell_type": "code",
      "source": [
        "s1 = set([1,2,3])\n",
        "s2 = set([3,4,5])\n",
        "print(s1 | s2) #{1,2,3,4,5}"
      ],
      "metadata": {
        "colab": {
          "base_uri": "https://localhost:8080/"
        },
        "id": "DUpH2VZ_oTmN",
        "outputId": "9eee2a15-e0ba-4be1-ddee-db8baacc486d"
      },
      "execution_count": null,
      "outputs": [
        {
          "output_type": "stream",
          "name": "stdout",
          "text": [
            "{1, 2, 3, 4, 5}\n"
          ]
        }
      ]
    },
    {
      "cell_type": "code",
      "source": [
        "# Crea un conjunto con los elementos 1 y 2\n",
        "l = set([1, 2])\n",
        "\n",
        "# Añade el elemento 3 al conjunto usando el método add()\n",
        "l.add(3)\n",
        "\n",
        "# Imprime el conjunto actualizado\n",
        "print(l)  # Salida: {1, 2, 3}"
      ],
      "metadata": {
        "colab": {
          "base_uri": "https://localhost:8080/"
        },
        "id": "oh7KJl4RorBt",
        "outputId": "1579eccb-ef43-4854-cc4c-612ec9ceeeae"
      },
      "execution_count": null,
      "outputs": [
        {
          "output_type": "stream",
          "name": "stdout",
          "text": [
            "{1, 2, 3}\n"
          ]
        }
      ]
    },
    {
      "cell_type": "code",
      "source": [
        "# Crea un conjunto con los elementos 1 y 2\n",
        "s = set([1, 2])\n",
        "\n",
        "# Elimina el elemento 2 del conjunto usando el método remove()\n",
        "s.remove(2)\n",
        "\n",
        "# Imprime el conjunto actualizado\n",
        "print(s)  # Salida: {1}"
      ],
      "metadata": {
        "colab": {
          "base_uri": "https://localhost:8080/"
        },
        "id": "rWXA8DtQpWOt",
        "outputId": "570885de-7c71-42c3-b433-6bc45c6854a7"
      },
      "execution_count": null,
      "outputs": [
        {
          "output_type": "stream",
          "name": "stdout",
          "text": [
            "{1}\n"
          ]
        }
      ]
    },
    {
      "cell_type": "code",
      "source": [
        "# Crea un conjunto con los elementos 1 y 2\n",
        "s = set([1, 2])\n",
        "\n",
        "# Intenta eliminar el elemento 3 del conjunto usando discard()\n",
        "s.discard(3)\n",
        "\n",
        "# Imprime el conjunto actualizado\n",
        "print(s)  # Salida: {1, 2}"
      ],
      "metadata": {
        "colab": {
          "base_uri": "https://localhost:8080/"
        },
        "id": "78wGKSHrqx3u",
        "outputId": "fc6bfe2b-8125-4cf2-e5ff-31ef77ad0310"
      },
      "execution_count": null,
      "outputs": [
        {
          "output_type": "stream",
          "name": "stdout",
          "text": [
            "{1, 2}\n"
          ]
        }
      ]
    },
    {
      "cell_type": "code",
      "source": [
        "# Crea un conjunto con los elementos 1 y 2\n",
        "s = set([1, 2])\n",
        "\n",
        "# Elimina y devuelve un elemento arbitrario del conjunto usando pop()\n",
        "s.pop()\n",
        "\n",
        "# Imprime el conjunto actualizado después de eliminar un elemento\n",
        "print(s)  # Salida: {2} (o {1}, dependiendo de cuál se elimine)"
      ],
      "metadata": {
        "colab": {
          "base_uri": "https://localhost:8080/"
        },
        "id": "-HsSOSHirAeG",
        "outputId": "1f34790e-7b45-4ad3-fac8-5a7f59c00611"
      },
      "execution_count": null,
      "outputs": [
        {
          "output_type": "stream",
          "name": "stdout",
          "text": [
            "{2}\n"
          ]
        }
      ]
    },
    {
      "cell_type": "code",
      "source": [
        "# Crea un conjunto con los elementos 1 y 2\n",
        "s = set([1, 2])\n",
        "\n",
        "# Vacía el conjunto eliminando todos sus elementos\n",
        "s.clear()\n",
        "\n",
        "# Imprime el conjunto, que ahora está vacío\n",
        "print(s)  # Salida: set()"
      ],
      "metadata": {
        "colab": {
          "base_uri": "https://localhost:8080/"
        },
        "id": "DjV4k-Burryu",
        "outputId": "6c10ec17-a959-49c4-ccbe-d458aa9e5047"
      },
      "execution_count": null,
      "outputs": [
        {
          "output_type": "stream",
          "name": "stdout",
          "text": [
            "set()\n"
          ]
        }
      ]
    },
    {
      "cell_type": "code",
      "source": [
        "# Define dos conjuntos con algunos elementos en común y otros distintos\n",
        "s1 = {1, 2, 3}\n",
        "s2 = {3, 4, 5}\n",
        "\n",
        "# Imprime la unión de s1 y s2\n",
        "print(s1.union(s2))  # Salida: {1, 2, 3, 4, 5}"
      ],
      "metadata": {
        "colab": {
          "base_uri": "https://localhost:8080/"
        },
        "id": "oPUjLPs-r9c9",
        "outputId": "545e2ef4-7f49-48e5-df01-a2421a141679"
      },
      "execution_count": null,
      "outputs": [
        {
          "output_type": "stream",
          "name": "stdout",
          "text": [
            "{1, 2, 3, 4, 5}\n"
          ]
        }
      ]
    },
    {
      "cell_type": "code",
      "source": [
        "# Define dos conjuntos con algunos elementos en común\n",
        "s1 = {1, 2, 3}\n",
        "s2 = {3, 4, 5}\n",
        "\n",
        "# Imprime la intersección de s1 y s2\n",
        "print(s1.intersection(s2))  # Salida: {3}"
      ],
      "metadata": {
        "colab": {
          "base_uri": "https://localhost:8080/"
        },
        "id": "Lzoye1WxsVZe",
        "outputId": "71f57400-e8ab-444e-e507-74c55bf6f426"
      },
      "execution_count": null,
      "outputs": [
        {
          "output_type": "stream",
          "name": "stdout",
          "text": [
            "{3}\n"
          ]
        }
      ]
    },
    {
      "cell_type": "code",
      "source": [
        "# Conjunto de tecnologías Front-end\n",
        "eqFront = set([\"HTML\", \"CSS\", \"JavaScript\", \"React\"])\n",
        "\n",
        "# Conjunto de tecnologías Back-end\n",
        "eqBack = set([\"Python\", \"SQL\", \"JavaScript\", \"Django\"])\n",
        "\n",
        "# Añadimos \"Vue.js\" al conjunto Front-end\n",
        "eqFront.add(\"Vue.js\")\n",
        "\n",
        "# Eliminamos \"Django\" del conjunto Back-end\n",
        "eqBack.remove(\"Django\")\n",
        "\n",
        "# Unión: todos los elementos de ambos conjuntos sin repetir\n",
        "print(eqFront.union(eqBack))\n",
        "# Salida: {'React', 'Vue.js', 'Python', 'SQL', 'CSS', 'JavaScript', 'HTML'}\n",
        "\n",
        "# Intersección: elementos comunes a ambos conjuntos\n",
        "print(eqFront.intersection(eqBack))\n",
        "# Salida: {'JavaScript'}\n",
        "\n",
        "# Diferencia: elementos en eqFront que no están en eqBack\n",
        "print(eqFront.difference(eqBack))\n",
        "# Salida: {'React', 'Vue.js', 'CSS', 'HTML'}"
      ],
      "metadata": {
        "colab": {
          "base_uri": "https://localhost:8080/"
        },
        "id": "_z5srxtPtIWX",
        "outputId": "fc3ee172-3542-4295-c088-3e4522e3173f"
      },
      "execution_count": null,
      "outputs": [
        {
          "output_type": "stream",
          "name": "stdout",
          "text": [
            "{'Vue.js', 'HTML', 'React', 'SQL', 'Python', 'CSS', 'JavaScript'}\n",
            "{'JavaScript'}\n",
            "{'Vue.js', 'HTML', 'React', 'CSS'}\n"
          ]
        }
      ]
    }
  ]
}