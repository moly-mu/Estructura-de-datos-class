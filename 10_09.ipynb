{
  "nbformat": 4,
  "nbformat_minor": 0,
  "metadata": {
    "colab": {
      "provenance": []
    },
    "kernelspec": {
      "name": "python3",
      "display_name": "Python 3"
    },
    "language_info": {
      "name": "python"
    }
  },
  "cells": [
    {
      "cell_type": "code",
      "execution_count": null,
      "metadata": {
        "id": "5OZXP6yU4E9D"
      },
      "outputs": [],
      "source": [
        "# Inicializa listas vacías para guardar los datos\n",
        "nombre = []\n",
        "identificacion = []\n",
        "direccion = []\n",
        "\n",
        "# Define el número de registros que se van a ingresar\n",
        "tamaño = 3\n",
        "\n",
        "# Bucle para pedir datos 'tamaño' veces\n",
        "for i in range(tamaño):\n",
        "    # Solicita el nombre al usuario\n",
        "    nombre_input = input(\"Nombre: \")\n",
        "    # Solicita la identificación al usuario\n",
        "    identificacion_input = input(\"Identificación: \")\n",
        "    # Solicita la dirección al usuario\n",
        "    direccion_input = input(\"Direccion: \")\n",
        "\n",
        "    # Agrega los datos ingresados a las listas correspondientes\n",
        "    nombre.append(nombre_input)\n",
        "    identificacion.append(identificacion_input)\n",
        "    direccion.append(direccion_input)\n",
        "\n",
        "# Imprime las listas con los datos almacenados\n",
        "print(\"Nombres:\", nombre)\n",
        "print(\"Identificaciones:\", identificacion)\n",
        "print(\"Direcciones:\", direccion)"
      ]
    },
    {
      "cell_type": "code",
      "source": [
        "# Importa la biblioteca numpy con el alias np\n",
        "import numpy as np\n",
        "\n",
        "# Define una lista de números\n",
        "lst = [10, 20, 30, 40, 50]\n",
        "\n",
        "# Convierte la lista en un array de numpy (vector)\n",
        "vct = np.array(lst)\n",
        "\n",
        "# Se repite la conversión (esta línea es redundante y puede omitirse)\n",
        "vct = np.array(lst)\n",
        "\n",
        "# Imprime el texto \"listooo:\"\n",
        "print(\"listooo:\")\n",
        "\n",
        "# Imprime el array numpy creado\n",
        "print(vct)"
      ],
      "metadata": {
        "colab": {
          "base_uri": "https://localhost:8080/"
        },
        "id": "jXQTh94i82Rd",
        "outputId": "d7d09f97-f224-4734-86ec-399b8241deaf"
      },
      "execution_count": null,
      "outputs": [
        {
          "output_type": "stream",
          "name": "stdout",
          "text": [
            "listooo:\n",
            "[10 20 30 40 50]\n"
          ]
        }
      ]
    },
    {
      "cell_type": "code",
      "source": [
        "# Importa la biblioteca numpy con el alias np\n",
        "import numpy as np\n",
        "\n",
        "# Define una lista de nombres\n",
        "lst = [\"isabel\", \"camilo\", \"Sebastian\"]\n",
        "\n",
        "# Convierte la lista en un array de numpy (vector)\n",
        "nm = np.array(lst)\n",
        "\n",
        "# Se repite la conversión (esta línea es redundante y puede omitirse)\n",
        "nm = np.array(lst)\n",
        "\n",
        "# Imprime el texto \"Nombres:\"\n",
        "print(\"Nombres:\")\n",
        "\n",
        "# Imprime el array numpy con los nombres\n",
        "print(nm)"
      ],
      "metadata": {
        "colab": {
          "base_uri": "https://localhost:8080/"
        },
        "id": "a0sN67iA9lJk",
        "outputId": "fa3d6052-45f5-46a3-8597-6272493d475d"
      },
      "execution_count": null,
      "outputs": [
        {
          "output_type": "stream",
          "name": "stdout",
          "text": [
            "Nombres:\n",
            "['isabel' 'camilo' 'Sebastian']\n"
          ]
        }
      ]
    },
    {
      "cell_type": "code",
      "source": [
        "# Importa la biblioteca numpy con alias np\n",
        "import numpy as np\n",
        "\n",
        "# Define una lista de frutas\n",
        "lst = [\"pera\", \"manzana\", \"durazno\", \"sandia\"]\n",
        "\n",
        "# Convierte la lista en un array numpy\n",
        "frt = np.array(lst)\n",
        "\n",
        "# La siguiente línea es redundante y puede eliminarse\n",
        "frt = np.array(lst)\n",
        "\n",
        "# Imprime el texto \"Frutas:\"\n",
        "print(\"Frutas:\")\n",
        "\n",
        "# Imprime el array numpy con las frutas\n",
        "print(frt)"
      ],
      "metadata": {
        "colab": {
          "base_uri": "https://localhost:8080/"
        },
        "id": "nXIOtU97-MQ0",
        "outputId": "ae74f9c8-91bc-46ab-fa66-1343fc01511d"
      },
      "execution_count": null,
      "outputs": [
        {
          "output_type": "stream",
          "name": "stdout",
          "text": [
            "Frutras:\n",
            "['pera' 'manzana' 'durazno' 'sandia']\n"
          ]
        }
      ]
    },
    {
      "cell_type": "code",
      "source": [
        "# Importa la biblioteca numpy con alias np\n",
        "import numpy as np\n",
        "\n",
        "# Define una lista de listas con números\n",
        "lst = [[2], [4], [6], [10]]\n",
        "\n",
        "# Define una lista de listas con nombres de frutas\n",
        "lstF = [[\"peras\"], [\"manzanas\"], [\"fresas\"]]\n",
        "\n",
        "# Define una lista de listas con nombres de personas\n",
        "lstN = [[\"Isabel\"], [\"Lorena\"], [\"Nicol\"]]\n",
        "\n",
        "# Convierte las listas en arrays numpy (matrices columna)\n",
        "vct = np.array(lst)\n",
        "vctF = np.array(lstF)\n",
        "vctN = np.array(lstN)\n",
        "\n",
        "# Imprime el título \"Números:\" y el array de números\n",
        "print(\"Números:\")\n",
        "print(vct)\n",
        "\n",
        "# Imprime el título \"Frutas:\" y el array de frutas\n",
        "print(\"Frutas:\")\n",
        "print(vctF)\n",
        "\n",
        "# Imprime el título \"Nombres:\" y el array de nombres\n",
        "print(\"Nombres:\")\n",
        "print(vctN)"
      ],
      "metadata": {
        "colab": {
          "base_uri": "https://localhost:8080/"
        },
        "id": "8b70byy4-8Mk",
        "outputId": "bfd83d47-0c0c-427a-c3e0-07c6084a14ef"
      },
      "execution_count": null,
      "outputs": [
        {
          "output_type": "stream",
          "name": "stdout",
          "text": [
            "Números:\n",
            "[[ 2]\n",
            " [ 4]\n",
            " [ 6]\n",
            " [10]]\n",
            "Frutas:\n",
            "[['peras']\n",
            " ['manzanas']\n",
            " ['fresas']]\n",
            "Nombres:\n",
            "[['Isabel']\n",
            " ['Lorena']\n",
            " ['Nicol']]\n"
          ]
        }
      ]
    },
    {
      "cell_type": "code",
      "source": [
        "# Importa la biblioteca numpy con alias np\n",
        "import numpy as np\n",
        "\n",
        "# Define dos listas de números\n",
        "lst1 = [10, 20, 30, 40, 50]\n",
        "lst2 = [1, 2, 3, 4, 5]\n",
        "\n",
        "# Convierte las listas en arrays numpy para operaciones vectoriales\n",
        "vct1 = np.array(lst1)\n",
        "vct2 = np.array(lst2)\n",
        "\n",
        "# Imprime el primer vector\n",
        "print(\"resultado vector 1:\")\n",
        "print(vct1)\n",
        "\n",
        "# Imprime el segundo vector\n",
        "print(\"resultado vector 2:\")\n",
        "print(vct2)\n",
        "\n",
        "# Suma elemento a elemento los dos vectores\n",
        "vct_add = vct1 + vct2\n",
        "\n",
        "# Imprime el resultado de la suma\n",
        "print(vct_add)"
      ],
      "metadata": {
        "colab": {
          "base_uri": "https://localhost:8080/"
        },
        "id": "Rjn1NqghAXz7",
        "outputId": "e133ef51-5a59-49cc-fbb4-39fce983f6b3"
      },
      "execution_count": null,
      "outputs": [
        {
          "output_type": "stream",
          "name": "stdout",
          "text": [
            "resultado vector 1:\n",
            "[10 20 30 40 50]\n",
            "resultado vector 2:\n",
            "[1 2 3 4 5]\n",
            "[11 22 33 44 55]\n"
          ]
        }
      ]
    },
    {
      "cell_type": "code",
      "source": [
        "# Importa la biblioteca numpy con alias np\n",
        "import numpy as np\n",
        "\n",
        "# Define dos listas de números\n",
        "lst1 = [10, 20, 30, 40, 50]\n",
        "lst2 = [1, 2, 3, 4, 5]\n",
        "\n",
        "# Convierte las listas en arrays numpy para operaciones vectoriales\n",
        "vct1 = np.array(lst1)\n",
        "vct2 = np.array(lst2)\n",
        "\n",
        "# Imprime el primer vector\n",
        "print(\"resultado vector 1:\")\n",
        "print(vct1)\n",
        "\n",
        "# Imprime el segundo vector\n",
        "print(\"resultado vector 2:\")\n",
        "print(vct2)\n",
        "\n",
        "# Suma elemento a elemento los dos vectores\n",
        "vct_add = vct1 + vct2\n",
        "\n",
        "# Imprime el resultado de la suma\n",
        "print(vct_add)"
      ],
      "metadata": {
        "colab": {
          "base_uri": "https://localhost:8080/",
          "height": 263
        },
        "id": "KWRP7c-kBUp9",
        "outputId": "98cad235-c516-4f5d-e74b-8b47fa58bb6e"
      },
      "execution_count": null,
      "outputs": [
        {
          "output_type": "stream",
          "name": "stdout",
          "text": [
            "resultado vector 1:\n",
            "[10 20 30 40 50]\n",
            "resultado vector 2:\n",
            "[1 2 3 4 5 6 7]\n"
          ]
        },
        {
          "output_type": "error",
          "ename": "ValueError",
          "evalue": "operands could not be broadcast together with shapes (5,) (7,) ",
          "traceback": [
            "\u001b[0;31m---------------------------------------------------------------------------\u001b[0m",
            "\u001b[0;31mValueError\u001b[0m                                Traceback (most recent call last)",
            "\u001b[0;32m/tmp/ipython-input-2271421978.py\u001b[0m in \u001b[0;36m<cell line: 0>\u001b[0;34m()\u001b[0m\n\u001b[1;32m     12\u001b[0m \u001b[0mprint\u001b[0m\u001b[0;34m(\u001b[0m\u001b[0mvct2\u001b[0m\u001b[0;34m)\u001b[0m\u001b[0;34m\u001b[0m\u001b[0;34m\u001b[0m\u001b[0m\n\u001b[1;32m     13\u001b[0m \u001b[0;34m\u001b[0m\u001b[0m\n\u001b[0;32m---> 14\u001b[0;31m \u001b[0mvct_add\u001b[0m \u001b[0;34m=\u001b[0m \u001b[0mvct1\u001b[0m\u001b[0;34m+\u001b[0m\u001b[0mvct2\u001b[0m\u001b[0;34m\u001b[0m\u001b[0;34m\u001b[0m\u001b[0m\n\u001b[0m\u001b[1;32m     15\u001b[0m \u001b[0mprint\u001b[0m\u001b[0;34m(\u001b[0m\u001b[0mvct_add\u001b[0m\u001b[0;34m)\u001b[0m\u001b[0;34m\u001b[0m\u001b[0;34m\u001b[0m\u001b[0m\n",
            "\u001b[0;31mValueError\u001b[0m: operands could not be broadcast together with shapes (5,) (7,) "
          ]
        }
      ]
    },
    {
      "cell_type": "code",
      "source": [
        "# Importa la biblioteca numpy con alias np\n",
        "import numpy as np\n",
        "\n",
        "# Define dos listas de números\n",
        "lst1 = [10, 20, 30, 40, 50]\n",
        "lst2 = [1, 2, 3, 4, 5]\n",
        "\n",
        "# Convierte las listas en arrays numpy para operaciones vectoriales\n",
        "vct1 = np.array(lst1)\n",
        "vct2 = np.array(lst2)\n",
        "\n",
        "# Imprime el primer vector\n",
        "print(\"resultado vector 1:\")\n",
        "print(vct1)\n",
        "\n",
        "# Imprime el segundo vector\n",
        "print(\"resultado vector 2:\")\n",
        "print(vct2)\n",
        "\n",
        "# Resta elemento a elemento el segundo vector del primero\n",
        "vct_add = vct1 - vct2\n",
        "\n",
        "# Imprime el resultado de la resta\n",
        "print(vct_add)"
      ],
      "metadata": {
        "colab": {
          "base_uri": "https://localhost:8080/"
        },
        "id": "q8Ru6VU7Bb_M",
        "outputId": "d88d5674-ad6f-4095-c935-e0016bbf08cb"
      },
      "execution_count": null,
      "outputs": [
        {
          "output_type": "stream",
          "name": "stdout",
          "text": [
            "resultado vector 1:\n",
            "[10 20 30 40 50]\n",
            "resultado vector 2:\n",
            "[1 2 3 4 5]\n",
            "[ 9 18 27 36 45]\n"
          ]
        }
      ]
    },
    {
      "cell_type": "code",
      "source": [
        "# Importa la biblioteca numpy con alias np\n",
        "import numpy as np\n",
        "\n",
        "# Define dos listas de números\n",
        "lst1 = [10, 20, 30, 40, 50]\n",
        "lst2 = [1, 2, 3, 4, 5]\n",
        "\n",
        "# Convierte las listas en arrays numpy para facilitar operaciones vectoriales\n",
        "vct1 = np.array(lst1)\n",
        "vct2 = np.array(lst2)\n",
        "\n",
        "# Imprime un encabezado para las operaciones\n",
        "print(\"operaciones:\")\n",
        "\n",
        "# Suma elemento a elemento\n",
        "print(\"Suma:\")\n",
        "vctD = vct1 + vct2\n",
        "print(vctD)\n",
        "\n",
        "# Resta elemento a elemento\n",
        "print(\"Resta:\")\n",
        "vctD = vct1 - vct2\n",
        "print(vctD)\n",
        "\n",
        "# Multiplicación elemento a elemento\n",
        "print(\"Multiplicacion:\")\n",
        "vctM = vct1 * vct2\n",
        "print(vctM)\n",
        "\n",
        "# División elemento a elemento\n",
        "print(\"Division:\")\n",
        "vctD = vct1 / vct2\n",
        "print(vctD)"
      ],
      "metadata": {
        "colab": {
          "base_uri": "https://localhost:8080/"
        },
        "id": "kqUOh8JoB470",
        "outputId": "a3aa4ac4-f4ee-40d7-8e45-641fbc02885f"
      },
      "execution_count": null,
      "outputs": [
        {
          "output_type": "stream",
          "name": "stdout",
          "text": [
            "operaciones:\n",
            "Suma:\n",
            "[11 22 33 44 55]\n",
            "Resta:\n",
            "[ 9 18 27 36 45]\n",
            "Multiplicacion:\n",
            "[ 10  40  90 160 250]\n",
            "Division:\n",
            "[10. 10. 10. 10. 10.]\n"
          ]
        }
      ]
    },
    {
      "cell_type": "code",
      "source": [
        "# Importa la biblioteca numpy con alias np\n",
        "import numpy as np\n",
        "\n",
        "# Define dos listas de números\n",
        "lst1 = [10, 20, 30, 40, 50]\n",
        "lst2 = [1, 1, 1, 1, 1]\n",
        "\n",
        "# Convierte las listas en arrays numpy para operaciones vectoriales\n",
        "vct1 = np.array(lst1)\n",
        "vct2 = np.array(lst2)\n",
        "\n",
        "# Imprime el primer vector\n",
        "print(\"resultado vector 1:\")\n",
        "print(vct1)\n",
        "\n",
        "# Imprime el segundo vector\n",
        "print(\"resultado vector 2:\")\n",
        "print(vct2)\n",
        "\n",
        "# Calcula el producto punto (dot product) de los dos vectores\n",
        "vct_dot = vct1.dot(vct2)\n",
        "\n",
        "# Imprime el resultado del producto punto\n",
        "print(vct_dot)"
      ],
      "metadata": {
        "colab": {
          "base_uri": "https://localhost:8080/"
        },
        "id": "-EYJyG5-Clvs",
        "outputId": "20e9a0c9-0fbb-48ea-cd4a-447aee3f555f"
      },
      "execution_count": null,
      "outputs": [
        {
          "output_type": "stream",
          "name": "stdout",
          "text": [
            "resultado vector 1:\n",
            "[10 20 30 40 50]\n",
            "resultado vector 2:\n",
            "[1 1 1 1 1]\n",
            "150\n"
          ]
        }
      ]
    },
    {
      "cell_type": "code",
      "source": [
        "# Importa la biblioteca numpy con alias np\n",
        "import numpy as np\n",
        "\n",
        "# Define dos listas de números\n",
        "lst1 = [10, 20, 30, 40, 50]\n",
        "lst2 = [2, 2, 2, 2, 2]\n",
        "\n",
        "# Convierte las listas en arrays numpy para operaciones vectoriales\n",
        "vct1 = np.array(lst1)\n",
        "vct2 = np.array(lst2)\n",
        "\n",
        "# Imprime el primer vector\n",
        "print(\"resultado vector 1:\")\n",
        "print(vct1)\n",
        "\n",
        "# Imprime el segundo vector\n",
        "print(\"resultado vector 2:\")\n",
        "print(vct2)\n",
        "\n",
        "# Calcula el producto punto (dot product) de los dos vectores\n",
        "vct_dot = vct1.dot(vct2)\n",
        "\n",
        "# Imprime el resultado del producto punto\n",
        "print(vct_dot)"
      ],
      "metadata": {
        "colab": {
          "base_uri": "https://localhost:8080/"
        },
        "id": "NSaaduC8DA1U",
        "outputId": "85639ae3-2a24-4640-fb3d-26de8820a163"
      },
      "execution_count": null,
      "outputs": [
        {
          "output_type": "stream",
          "name": "stdout",
          "text": [
            "resultado vector 1:\n",
            "[10 20 30 40 50]\n",
            "resultado vector 2:\n",
            "[2 2 2 2 2]\n",
            "300\n"
          ]
        }
      ]
    }
  ]
}