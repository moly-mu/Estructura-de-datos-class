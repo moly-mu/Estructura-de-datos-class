{
  "nbformat": 4,
  "nbformat_minor": 0,
  "metadata": {
    "colab": {
      "provenance": []
    },
    "kernelspec": {
      "name": "python3",
      "display_name": "Python 3"
    },
    "language_info": {
      "name": "python"
    }
  },
  "cells": [
    {
      "cell_type": "code",
      "execution_count": null,
      "metadata": {
        "id": "5OZXP6yU4E9D",
        "colab": {
          "base_uri": "https://localhost:8080/"
        },
        "outputId": "fb1da19f-1cb6-404a-ee2b-f254ec507c51"
      },
      "outputs": [
        {
          "output_type": "stream",
          "name": "stdout",
          "text": [
            "Nombre: dfghjkl\n",
            "Identificación: 23456789\n",
            "Direccion: sdfgkl\n",
            "Nombre: sdfghjk\n",
            "Identificación: 456789\n",
            "Direccion: dfghjk\n",
            "Nombre: fghjkl\n",
            "Identificación: 3456789\n",
            "Direccion: dfghjkl\n",
            "Nombres: ['dfghjkl', 'sdfghjk', 'fghjkl']\n",
            "Identificaciones: ['23456789', '456789', '3456789']\n",
            "Direcciones: ['sdfgkl', 'dfghjk', 'dfghjkl']\n"
          ]
        }
      ],
      "source": [
        "# Se crean tres listas vacías para almacenar los datos de cada persona\n",
        "nombre = []          # Lista para nombres\n",
        "identificacion = []  # Lista para identificaciones\n",
        "direccion = []       # Lista para direcciones\n",
        "\n",
        "# Se define cuántas personas se van a registrar\n",
        "tamaño = 3\n",
        "\n",
        "# Bucle que se repite 'tamaño' veces para capturar los datos de cada persona\n",
        "for i in range(tamaño):\n",
        "    # Solicita el nombre del usuario\n",
        "    nombre_input = input(\"Nombre: \")\n",
        "\n",
        "    # Solicita la identificación del usuario\n",
        "    identificacion_input = input(\"Identificación: \")\n",
        "\n",
        "    # Solicita la dirección del usuario\n",
        "    direccion_input = input(\"Dirección: \")\n",
        "\n",
        "    # Agrega los datos ingresados a sus respectivas listas\n",
        "    nombre.append(nombre_input)\n",
        "    identificacion.append(identificacion_input)\n",
        "    direccion.append(direccion_input)\n",
        "\n",
        "# Muestra todas las listas con los datos ingresados\n",
        "print(\"Nombres:\", nombre)\n",
        "print(\"Identificaciones:\", identificacion)\n",
        "print(\"Direcciones:\", direccion)\n"
      ]
    },
    {
      "cell_type": "code",
      "source": [
        "# Importa el módulo numpy, renombrado como 'np' para usarlo más fácilmente\n",
        "import numpy as np\n",
        "\n",
        "# Se define una lista de números enteros\n",
        "lst = [10, 20, 30, 40, 50]\n",
        "\n",
        "# Se convierte la lista a un array de NumPy\n",
        "vct = np.array(lst)  # Esto permite trabajar con operaciones vectorizadas\n",
        "\n",
        "# Imprime un encabezado informativo\n",
        "print(\"Listooo:\")\n",
        "\n",
        "# Imprime el array convertido desde la lista\n",
        "print(vct)\n"
      ],
      "metadata": {
        "colab": {
          "base_uri": "https://localhost:8080/"
        },
        "id": "jXQTh94i82Rd",
        "outputId": "d7d09f97-f224-4734-86ec-399b8241deaf"
      },
      "execution_count": null,
      "outputs": [
        {
          "output_type": "stream",
          "name": "stdout",
          "text": [
            "listooo:\n",
            "[10 20 30 40 50]\n"
          ]
        }
      ]
    },
    {
      "cell_type": "code",
      "source": [
        "# Importa la librería numpy y la renombra como np para facilitar su uso\n",
        "import numpy as np\n",
        "\n",
        "# Define una lista de nombres (strings)\n",
        "lst = [\"isabel\", \"camilo\", \"Sebastian\"]\n",
        "\n",
        "# Convierte la lista en un array de numpy (vector de strings)\n",
        "nm = np.array(lst)\n",
        "\n",
        "# La segunda conversión es redundante, por eso se elimina:\n",
        "# nm = np.array(lst)\n",
        "\n",
        "# Imprime un encabezado\n",
        "print(\"Nombres:\")\n",
        "\n",
        "# Imprime el array de nombres\n",
        "print(nm)"
      ],
      "metadata": {
        "colab": {
          "base_uri": "https://localhost:8080/"
        },
        "id": "a0sN67iA9lJk",
        "outputId": "fa3d6052-45f5-46a3-8597-6272493d475d"
      },
      "execution_count": null,
      "outputs": [
        {
          "output_type": "stream",
          "name": "stdout",
          "text": [
            "Nombres:\n",
            "['isabel' 'camilo' 'Sebastian']\n"
          ]
        }
      ]
    },
    {
      "cell_type": "code",
      "source": [
        "# Importa la librería numpy como np\n",
        "import numpy as np\n",
        "\n",
        "# Lista de frutas\n",
        "lst = [\"pera\", \"manzana\", \"durazno\", \"sandia\"]\n",
        "\n",
        "# Convierte la lista en un array de numpy\n",
        "frt = np.array(lst)\n",
        "\n",
        "# Nota: La siguiente línea es redundante y se elimina\n",
        "# frt = np.array(lst)\n",
        "\n",
        "# Imprime un título para la lista de frutas\n",
        "print(\"Frutas:\")\n",
        "\n",
        "# Imprime el array con las frutas\n",
        "print(frt)\n"
      ],
      "metadata": {
        "colab": {
          "base_uri": "https://localhost:8080/"
        },
        "id": "nXIOtU97-MQ0",
        "outputId": "ae74f9c8-91bc-46ab-fa66-1343fc01511d"
      },
      "execution_count": null,
      "outputs": [
        {
          "output_type": "stream",
          "name": "stdout",
          "text": [
            "Frutras:\n",
            "['pera' 'manzana' 'durazno' 'sandia']\n"
          ]
        }
      ]
    },
    {
      "cell_type": "code",
      "source": [
        "# Importa la biblioteca numpy como np\n",
        "import numpy as np\n",
        "\n",
        "# Lista de listas con números (cada número está en una lista)\n",
        "lst = [[2], [4], [6], [10]]\n",
        "\n",
        "# Lista de listas con frutas (cada fruta está en una lista)\n",
        "lstF = [[\"peras\"], [\"manzanas\"], [\"fresas\"]]\n",
        "\n",
        "# Lista de listas con nombres (cada nombre está en una lista)\n",
        "lstN = [[\"Isabel\"], [\"Lorena\"], [\"Nicol\"]]\n",
        "\n",
        "# Convierte cada lista en un array numpy\n",
        "vct = np.array(lst)\n",
        "vctF = np.array(lstF)\n",
        "vctN = np.array(lstN)\n",
        "\n",
        "# Imprime los arrays con un título para cada uno\n",
        "print(\"Números:\")\n",
        "print(vct)\n",
        "\n",
        "print(\"Frutas:\")\n",
        "print(vctF)\n",
        "\n",
        "print(\"Nombres:\")\n",
        "print(vctN)"
      ],
      "metadata": {
        "colab": {
          "base_uri": "https://localhost:8080/"
        },
        "id": "8b70byy4-8Mk",
        "outputId": "bfd83d47-0c0c-427a-c3e0-07c6084a14ef"
      },
      "execution_count": null,
      "outputs": [
        {
          "output_type": "stream",
          "name": "stdout",
          "text": [
            "Números:\n",
            "[[ 2]\n",
            " [ 4]\n",
            " [ 6]\n",
            " [10]]\n",
            "Frutas:\n",
            "[['peras']\n",
            " ['manzanas']\n",
            " ['fresas']]\n",
            "Nombres:\n",
            "[['Isabel']\n",
            " ['Lorena']\n",
            " ['Nicol']]\n"
          ]
        }
      ]
    },
    {
      "cell_type": "code",
      "source": [
        "# Importa la biblioteca numpy con el alias np\n",
        "import numpy as np\n",
        "\n",
        "# Define dos listas de números\n",
        "lst1 = [10, 20, 30, 40, 50]\n",
        "lst2 = [1, 2, 3, 4, 5]\n",
        "\n",
        "# Convierte las listas en arrays de numpy\n",
        "vct1 = np.array(lst1)\n",
        "vct2 = np.array(lst2)\n",
        "\n",
        "# Imprime los arrays originales\n",
        "print(\"Resultado vector 1:\")\n",
        "print(vct1)\n",
        "print(\"Resultado vector 2:\")\n",
        "print(vct2)\n",
        "\n",
        "# Suma elemento a elemento ambos arrays\n",
        "vct_add = vct1 + vct2\n",
        "\n",
        "# Imprime el resultado de la suma\n",
        "print(\"Suma de los dos vectores:\")\n",
        "print(vct_add)\n"
      ],
      "metadata": {
        "colab": {
          "base_uri": "https://localhost:8080/"
        },
        "id": "Rjn1NqghAXz7",
        "outputId": "e133ef51-5a59-49cc-fbb4-39fce983f6b3"
      },
      "execution_count": null,
      "outputs": [
        {
          "output_type": "stream",
          "name": "stdout",
          "text": [
            "resultado vector 1:\n",
            "[10 20 30 40 50]\n",
            "resultado vector 2:\n",
            "[1 2 3 4 5]\n",
            "[11 22 33 44 55]\n"
          ]
        }
      ]
    },
    {
      "cell_type": "code",
      "source": [
        "# Importa la biblioteca numpy con el alias np\n",
        "import numpy as np\n",
        "\n",
        "# Define dos listas con diferente cantidad de elementos\n",
        "lst1 = [10, 20, 30, 40, 50]        # Longitud 5\n",
        "lst2 = [1, 2, 3, 4, 5, 6, 7]       # Longitud 7\n",
        "\n",
        "# Convierte las listas en arrays numpy\n",
        "vct1 = np.array(lst1)\n",
        "vct2 = np.array(lst2)\n",
        "\n",
        "# Imprime ambos vectores\n",
        "print(\"Resultado vector 1:\")\n",
        "print(vct1)\n",
        "print(\"Resultado vector 2:\")\n",
        "print(vct2)\n",
        "\n",
        "# Intenta sumar ambos vectores (esto producirá un error)\n",
        "vct_add = vct1 + vct2\n",
        "\n",
        "# Imprime el resultado de la suma\n",
        "print(vct_add)"
      ],
      "metadata": {
        "colab": {
          "base_uri": "https://localhost:8080/",
          "height": 263
        },
        "id": "KWRP7c-kBUp9",
        "outputId": "98cad235-c516-4f5d-e74b-8b47fa58bb6e"
      },
      "execution_count": null,
      "outputs": [
        {
          "output_type": "stream",
          "name": "stdout",
          "text": [
            "resultado vector 1:\n",
            "[10 20 30 40 50]\n",
            "resultado vector 2:\n",
            "[1 2 3 4 5 6 7]\n"
          ]
        },
        {
          "output_type": "error",
          "ename": "ValueError",
          "evalue": "operands could not be broadcast together with shapes (5,) (7,) ",
          "traceback": [
            "\u001b[0;31m---------------------------------------------------------------------------\u001b[0m",
            "\u001b[0;31mValueError\u001b[0m                                Traceback (most recent call last)",
            "\u001b[0;32m/tmp/ipython-input-2271421978.py\u001b[0m in \u001b[0;36m<cell line: 0>\u001b[0;34m()\u001b[0m\n\u001b[1;32m     12\u001b[0m \u001b[0mprint\u001b[0m\u001b[0;34m(\u001b[0m\u001b[0mvct2\u001b[0m\u001b[0;34m)\u001b[0m\u001b[0;34m\u001b[0m\u001b[0;34m\u001b[0m\u001b[0m\n\u001b[1;32m     13\u001b[0m \u001b[0;34m\u001b[0m\u001b[0m\n\u001b[0;32m---> 14\u001b[0;31m \u001b[0mvct_add\u001b[0m \u001b[0;34m=\u001b[0m \u001b[0mvct1\u001b[0m\u001b[0;34m+\u001b[0m\u001b[0mvct2\u001b[0m\u001b[0;34m\u001b[0m\u001b[0;34m\u001b[0m\u001b[0m\n\u001b[0m\u001b[1;32m     15\u001b[0m \u001b[0mprint\u001b[0m\u001b[0;34m(\u001b[0m\u001b[0mvct_add\u001b[0m\u001b[0;34m)\u001b[0m\u001b[0;34m\u001b[0m\u001b[0;34m\u001b[0m\u001b[0m\n",
            "\u001b[0;31mValueError\u001b[0m: operands could not be broadcast together with shapes (5,) (7,) "
          ]
        }
      ]
    },
    {
      "cell_type": "code",
      "source": [
        "# Importa la biblioteca numpy y la renombra como np para facilitar su uso\n",
        "import numpy as np\n",
        "\n",
        "# Define dos listas con números\n",
        "lst1 = [10, 20, 30, 40, 50]\n",
        "lst2 = [1, 2, 3, 4, 5]\n",
        "\n",
        "# Convierte las listas en arrays de numpy\n",
        "vct1 = np.array(lst1)\n",
        "vct2 = np.array(lst2)\n",
        "\n",
        "# Imprime el primer vector\n",
        "print(\"Resultado vector 1:\")\n",
        "print(vct1)\n",
        "\n",
        "# Imprime el segundo vector\n",
        "print(\"Resultado vector 2:\")\n",
        "print(vct2)\n",
        "\n",
        "# Resta los dos vectores elemento por elemento\n",
        "vct_add = vct1 - vct2\n",
        "\n",
        "# Imprime el resultado de la resta\n",
        "print(vct_add)"
      ],
      "metadata": {
        "colab": {
          "base_uri": "https://localhost:8080/"
        },
        "id": "q8Ru6VU7Bb_M",
        "outputId": "d88d5674-ad6f-4095-c935-e0016bbf08cb"
      },
      "execution_count": null,
      "outputs": [
        {
          "output_type": "stream",
          "name": "stdout",
          "text": [
            "resultado vector 1:\n",
            "[10 20 30 40 50]\n",
            "resultado vector 2:\n",
            "[1 2 3 4 5]\n",
            "[ 9 18 27 36 45]\n"
          ]
        }
      ]
    },
    {
      "cell_type": "code",
      "source": [
        "# Importa la biblioteca numpy con alias np\n",
        "import numpy as np\n",
        "\n",
        "# Define dos listas de números\n",
        "lst1 = [10, 20, 30, 40, 50]\n",
        "lst2 = [1, 2, 3, 4, 5]\n",
        "\n",
        "# Convierte las listas en arrays numpy para operar vectorialmente\n",
        "vct1 = np.array(lst1)\n",
        "vct2 = np.array(lst2)\n",
        "\n",
        "# Imprime un encabezado general para las operaciones\n",
        "print(\"Operaciones:\")\n",
        "\n",
        "# Suma elemento a elemento\n",
        "print(\"Suma:\")\n",
        "vctD = vct1 + vct2\n",
        "print(vctD)\n",
        "\n",
        "# Resta elemento a elemento\n",
        "print(\"Resta:\")\n",
        "vctD = vct1 - vct2\n",
        "print(vctD)\n",
        "\n",
        "# Multiplicación elemento a elemento\n",
        "print(\"Multiplicación:\")\n",
        "vctM = vct1 * vct2\n",
        "print(vctM)\n",
        "\n",
        "# División elemento a elemento (resultado en float)\n",
        "print(\"División:\")\n",
        "vctD = vct1 / vct2\n",
        "print(vctD)"
      ],
      "metadata": {
        "colab": {
          "base_uri": "https://localhost:8080/"
        },
        "id": "kqUOh8JoB470",
        "outputId": "a3aa4ac4-f4ee-40d7-8e45-641fbc02885f"
      },
      "execution_count": null,
      "outputs": [
        {
          "output_type": "stream",
          "name": "stdout",
          "text": [
            "operaciones:\n",
            "Suma:\n",
            "[11 22 33 44 55]\n",
            "Resta:\n",
            "[ 9 18 27 36 45]\n",
            "Multiplicacion:\n",
            "[ 10  40  90 160 250]\n",
            "Division:\n",
            "[10. 10. 10. 10. 10.]\n"
          ]
        }
      ]
    },
    {
      "cell_type": "code",
      "source": [
        "# Importa la biblioteca numpy con alias np\n",
        "import numpy as np\n",
        "\n",
        "# Define dos listas de números\n",
        "lst1 = [10, 20, 30, 40, 50]\n",
        "lst2 = [1, 1, 1, 1, 1]\n",
        "\n",
        "# Convierte las listas en arrays numpy para operaciones vectoriales\n",
        "vct1 = np.array(lst1)\n",
        "vct2 = np.array(lst2)\n",
        "\n",
        "# Imprime el primer vector\n",
        "print(\"Resultado vector 1:\")\n",
        "print(vct1)\n",
        "\n",
        "# Imprime el segundo vector\n",
        "print(\"Resultado vector 2:\")\n",
        "print(vct2)\n",
        "\n",
        "# Calcula el producto punto (dot product) entre los dos vectores\n",
        "vct_dot = vct1.dot(vct2)\n",
        "\n",
        "# Imprime el resultado del producto punto\n",
        "print(\"Producto punto de los vectores:\")\n",
        "print(vct_dot)"
      ],
      "metadata": {
        "colab": {
          "base_uri": "https://localhost:8080/"
        },
        "id": "-EYJyG5-Clvs",
        "outputId": "20e9a0c9-0fbb-48ea-cd4a-447aee3f555f"
      },
      "execution_count": null,
      "outputs": [
        {
          "output_type": "stream",
          "name": "stdout",
          "text": [
            "resultado vector 1:\n",
            "[10 20 30 40 50]\n",
            "resultado vector 2:\n",
            "[1 1 1 1 1]\n",
            "150\n"
          ]
        }
      ]
    },
    {
      "cell_type": "code",
      "source": [
        "# Importa la biblioteca numpy con alias np\n",
        "import numpy as np\n",
        "\n",
        "# Define dos listas de números\n",
        "lst1 = [10, 20, 30, 40, 50]\n",
        "lst2 = [2, 2, 2, 2, 2]\n",
        "\n",
        "# Convierte las listas en arrays numpy para operaciones vectoriales\n",
        "vct1 = np.array(lst1)\n",
        "vct2 = np.array(lst2)\n",
        "\n",
        "# Imprime el primer vector\n",
        "print(\"Resultado vector 1:\")\n",
        "print(vct1)\n",
        "\n",
        "# Imprime el segundo vector\n",
        "print(\"Resultado vector 2:\")\n",
        "print(vct2)\n",
        "\n",
        "# Calcula el producto punto (dot product) entre los dos vectores\n",
        "vct_dot = vct1.dot(vct2)\n",
        "\n",
        "# Imprime el resultado del producto punto\n",
        "print(\"Producto punto de los vectores:\")\n",
        "print(vct_dot)"
      ],
      "metadata": {
        "colab": {
          "base_uri": "https://localhost:8080/"
        },
        "id": "NSaaduC8DA1U",
        "outputId": "85639ae3-2a24-4640-fb3d-26de8820a163"
      },
      "execution_count": null,
      "outputs": [
        {
          "output_type": "stream",
          "name": "stdout",
          "text": [
            "resultado vector 1:\n",
            "[10 20 30 40 50]\n",
            "resultado vector 2:\n",
            "[2 2 2 2 2]\n",
            "300\n"
          ]
        }
      ]
    }
  ]
}