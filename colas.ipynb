{
  "nbformat": 4,
  "nbformat_minor": 0,
  "metadata": {
    "colab": {
      "provenance": []
    },
    "kernelspec": {
      "name": "python3",
      "display_name": "Python 3"
    },
    "language_info": {
      "name": "python"
    }
  },
  "cells": [
    {
      "cell_type": "code",
      "execution_count": null,
      "metadata": {
        "id": "zUJbahqhrM15"
      },
      "outputs": [],
      "source": [
        "from collections import deque\n",
        "\n",
        "cola_doble = deque([\"X\", \"Y\"])\n",
        "cola_doble.appendleft(\"A\")\n",
        "cola_doble.append(\"B\")\n",
        "\n",
        "print(\"Cola doble:\", cola_doble)\n",
        "\n",
        "cola_doble.pop()      # pop() desencolar desde el final.\n",
        "cola_doble.popleft()  # popleft() desencolar desde el inicio.\n",
        "\n",
        "print(\"Cola doble después:\", cola_doble)\n"
      ]
    },
    {
      "cell_type": "code",
      "source": [
        "from queue import PriorityQueue\n",
        "\n",
        "cola = PriorityQueue()\n",
        "\n",
        "# Cada elemento es una tupla: (prioridad, valor)\n",
        "cola.put((1, \"Paciente grave\"))\n",
        "cola.put((3, \"Paciente leve\"))\n",
        "cola.put((2, \"Paciente medio\"))\n",
        "\n",
        "# Desencolar respeta las prioridades, no el orden de llegada\n",
        "print(\"Atendido:\", cola.get())  # (1, 'Paciente grave')\n",
        "print(\"Atendido:\", cola.get())  # (2, 'Paciente medio')\n",
        "print(\"Atendido:\", cola.get())  # (3, 'Paciente leve')\n"
      ],
      "metadata": {
        "id": "MQY4jPbWr_uc"
      },
      "execution_count": null,
      "outputs": []
    },
    {
      "cell_type": "code",
      "source": [
        "from collections import deque\n",
        "\n",
        "# Creamos una cola (deque) con los nombres de los jugadores\n",
        "jugadores = deque([\"Carolina\", \"Darian\", \"Jefry\", \"Adrian\"])\n",
        "\n",
        "# Repetimos 10 veces el ciclo de turnos\n",
        "for i in range(10):\n",
        "    # Sacamos el primer jugador de la cola (turno actual)\n",
        "    turno = jugadores.popleft()\n",
        "    print(\"Turno de:\", turno)\n",
        "    # El jugador que tuvo turno se vuelve a agregar al final de la cola\n",
        "    jugadores.append(turno)\n",
        "\n",
        "# Mostramos el estado final de la cola después de los 10 turnos\n",
        "print(\"Cola final:\", jugadores)"
      ],
      "metadata": {
        "id": "eg9RXqCrtUfM"
      },
      "execution_count": null,
      "outputs": []
    },
    {
      "cell_type": "code",
      "source": [],
      "metadata": {
        "id": "6yskouVstirD"
      },
      "execution_count": null,
      "outputs": []
    }
  ]
}