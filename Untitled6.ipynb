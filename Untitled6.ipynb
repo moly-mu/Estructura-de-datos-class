{
  "nbformat": 4,
  "nbformat_minor": 0,
  "metadata": {
    "colab": {
      "provenance": []
    },
    "kernelspec": {
      "name": "python3",
      "display_name": "Python 3"
    },
    "language_info": {
      "name": "python"
    }
  },
  "cells": [
    {
      "cell_type": "code",
      "execution_count": null,
      "metadata": {
        "colab": {
          "base_uri": "https://localhost:8080/"
        },
        "id": "GL2MhxqonmyH",
        "outputId": "088f20dd-485f-41ca-e083-71ecfe533547"
      },
      "outputs": [
        {
          "output_type": "stream",
          "name": "stdout",
          "text": [
            "{'Nombre': 'Sara', 'Edad': '18', 'Documento': 1025623562}\n"
          ]
        }
      ],
      "source": [
        "# Diccionario con información personal\n",
        "d1 = {\n",
        "    \"Nombre\": \"Sara\",\n",
        "    \"Edad\": \"18\",\n",
        "    \"Documento\": 1025623562\n",
        "}\n",
        "\n",
        "# Imprime el diccionario completo\n",
        "print(d1)\n"
      ]
    },
    {
      "cell_type": "code",
      "source": [
        "# Diccionario con información personal más completa\n",
        "d1 = {\n",
        "    \"Nombre\": \"Darian\",\n",
        "    \"Edad\": \"18\",\n",
        "    \"Documento\": 1031652926,\n",
        "    \"Estado Civil\": \"Soltera\"\n",
        "}\n",
        "\n",
        "# Imprime el diccionario completo\n",
        "print(d1)\n"
      ],
      "metadata": {
        "id": "34eaOMO4n4JC"
      },
      "execution_count": null,
      "outputs": []
    },
    {
      "cell_type": "code",
      "source": [
        "# Crear un diccionario usando la función dict() con una lista de tuplas\n",
        "d2 = dict([\n",
        "    ('Nombre', 'Sara'),\n",
        "    ('Edad', 18),\n",
        "    ('Documento', 1025623562),\n",
        "])\n",
        "\n",
        "# Imprime el diccionario completo\n",
        "print(d2)"
      ],
      "metadata": {
        "colab": {
          "base_uri": "https://localhost:8080/"
        },
        "id": "6AYNttSZoBGg",
        "outputId": "db78a778-7877-41e6-8b68-0508c7d4c79d"
      },
      "execution_count": null,
      "outputs": [
        {
          "output_type": "stream",
          "name": "stdout",
          "text": [
            "{'Nombre': 'Sara', 'Edad': 18, 'Documento': 1025623562}\n"
          ]
        }
      ]
    },
    {
      "cell_type": "code",
      "source": [
        "# Crear un diccionario usando dict() con una lista de tuplas, incluyendo \"Estado Civil\"\n",
        "d2 = dict([\n",
        "    ('Nombre', 'Darian'),\n",
        "    ('Edad', 18),\n",
        "    ('Documento', 1031652926),\n",
        "    ('Estado Civil', 'Soltera')\n",
        "])\n",
        "\n",
        "# Imprime el diccionario completo\n",
        "print(d2)"
      ],
      "metadata": {
        "colab": {
          "base_uri": "https://localhost:8080/"
        },
        "id": "fXdilkx9ogij",
        "outputId": "8c10052e-cfd6-4ba1-eafe-d6d1ff81d7b7"
      },
      "execution_count": null,
      "outputs": [
        {
          "output_type": "stream",
          "name": "stdout",
          "text": [
            "{'Nombre': 'Darian', 'Edad': 18, 'Documento': 1031652926, 'Estado Civil': 'Soltera'}\n"
          ]
        }
      ]
    },
    {
      "cell_type": "code",
      "source": [
        "# Crear un diccionario usando la sintaxis directa con argumentos clave=valor\n",
        "d3 = dict(\n",
        "    Nombre='Sara',\n",
        "    Edad=18,\n",
        "    Documento=1025623562\n",
        ")\n",
        "\n",
        "# Imprime el diccionario completo\n",
        "print(d3)"
      ],
      "metadata": {
        "colab": {
          "base_uri": "https://localhost:8080/"
        },
        "id": "NcLe8pedouyQ",
        "outputId": "ad36b2a6-dc20-4ac6-b503-2d9fd39b2f7f"
      },
      "execution_count": null,
      "outputs": [
        {
          "output_type": "stream",
          "name": "stdout",
          "text": [
            "{'Nombre': 'Sara', 'Edad': 18, 'Documento': 1025623562}\n"
          ]
        }
      ]
    },
    {
      "cell_type": "code",
      "source": [
        "# Crear un diccionario usando dict() con argumentos clave=valor\n",
        "# Nota: Las claves no pueden tener espacios, por eso usamos guion bajo en \"Estado_Civil\"\n",
        "d3 = dict(\n",
        "    Nombre='Darian',\n",
        "    Edad=18,\n",
        "    Documento=1031652926,\n",
        "    Estado_Civil='Soltera'\n",
        ")\n",
        "\n",
        "# Imprime el diccionario completo\n",
        "print(d3)"
      ],
      "metadata": {
        "colab": {
          "base_uri": "https://localhost:8080/"
        },
        "id": "DAymSoYqozb5",
        "outputId": "9447950c-a6e4-4417-8f38-f234ddfd70f0"
      },
      "execution_count": null,
      "outputs": [
        {
          "output_type": "stream",
          "name": "stdout",
          "text": [
            "{'Nombre': 'Darian', 'Edad': 18, 'Documento': 1031652926, 'Estado_Civil': 'Soltera'}\n"
          ]
        }
      ]
    },
    {
      "cell_type": "code",
      "source": [
        "# Acceder a valores del diccionario d1 usando dos métodos diferentes\n",
        "\n",
        "print(d1['Nombre'])       # Accede directamente al valor con la clave 'Nombre'\n",
        "print(d1.get('Nombre'))   # Accede al valor con la clave 'Nombre' usando get()\n",
        "\n",
        "print(d1['Edad'])         # Accede directamente al valor con la clave 'Edad'\n",
        "print(d1.get('Edad'))     # Accede al valor con la clave 'Edad' usando get()\n",
        "\n",
        "print(d1['Documento'])    # Accede directamente al valor con la clave 'Documento'\n",
        "print(d1.get('Documento'))# Accede al valor con la clave 'Documento' usando get()"
      ],
      "metadata": {
        "colab": {
          "base_uri": "https://localhost:8080/"
        },
        "id": "rQVE7uPbppFh",
        "outputId": "1ff90c10-fb78-4429-9e30-4bb5ba0b797d"
      },
      "execution_count": null,
      "outputs": [
        {
          "output_type": "stream",
          "name": "stdout",
          "text": [
            "Sara\n",
            "Sara\n",
            "18\n",
            "18\n",
            "1025623562\n",
            "1025623562\n"
          ]
        }
      ]
    },
    {
      "cell_type": "code",
      "source": [
        "# Modificar el valor asociado a la clave 'Nombre' en el diccionario d1\n",
        "d1['Nombre'] = 'Piña'\n",
        "\n",
        "# Imprime el diccionario actualizado\n",
        "print(d1)"
      ],
      "metadata": {
        "colab": {
          "base_uri": "https://localhost:8080/"
        },
        "id": "IxX4iWLiqKsx",
        "outputId": "6b39a5bd-a88d-4818-a594-88210cc8be40"
      },
      "execution_count": null,
      "outputs": [
        {
          "output_type": "stream",
          "name": "stdout",
          "text": [
            "{'Nombre': 'Piña', 'Edad': '18', 'Documento': 1025623562}\n"
          ]
        }
      ]
    },
    {
      "cell_type": "code",
      "source": [
        "# Agregar una nueva clave 'Dirección' con su valor al diccionario d1\n",
        "d1['Dirección'] = 'Calle 123'\n",
        "\n",
        "# Imprime el diccionario actualizado con la nueva clave\n",
        "print(d1)"
      ],
      "metadata": {
        "colab": {
          "base_uri": "https://localhost:8080/"
        },
        "id": "DdmwSPmXq6YZ",
        "outputId": "5e5e71ab-9ecf-4eca-ab4d-215dd1f9eb44"
      },
      "execution_count": null,
      "outputs": [
        {
          "output_type": "stream",
          "name": "stdout",
          "text": [
            "{'Nombre': 'Piña', 'Edad': '18', 'Documento': 1025623562, 'Dirección': 'Calle 123'}\n"
          ]
        }
      ]
    },
    {
      "cell_type": "code",
      "source": [
        "# Recorrer las claves del diccionario d1\n",
        "for x in d1:\n",
        "    print(x)"
      ],
      "metadata": {
        "colab": {
          "base_uri": "https://localhost:8080/"
        },
        "id": "difdmOYbshtF",
        "outputId": "af6b034a-3d33-4c6e-c9ed-0476a14505e0"
      },
      "execution_count": null,
      "outputs": [
        {
          "output_type": "stream",
          "name": "stdout",
          "text": [
            "Nombre\n",
            "Edad\n",
            "Documento\n",
            "Dirección\n"
          ]
        }
      ]
    },
    {
      "cell_type": "code",
      "source": [
        "# Recorrer las claves del diccionario d1 e imprimir sus valores\n",
        "for x in d1:\n",
        "    print(d1[x])"
      ],
      "metadata": {
        "colab": {
          "base_uri": "https://localhost:8080/"
        },
        "id": "U5XhTRZMspv9",
        "outputId": "ce570221-681f-4ba9-9546-cee8ec8531ab"
      },
      "execution_count": null,
      "outputs": [
        {
          "output_type": "stream",
          "name": "stdout",
          "text": [
            "Piña\n",
            "18\n",
            "1025623562\n",
            "Calle 123\n"
          ]
        }
      ]
    },
    {
      "cell_type": "code",
      "source": [
        "# Recorrer el diccionario d1 con .items() para obtener claves y valores\n",
        "for x, y in d1.items():\n",
        "    print(x, y)"
      ],
      "metadata": {
        "colab": {
          "base_uri": "https://localhost:8080/"
        },
        "id": "D4clUIRdtNom",
        "outputId": "9f047157-69bd-4b9b-d4a5-abe38c319023"
      },
      "execution_count": null,
      "outputs": [
        {
          "output_type": "stream",
          "name": "stdout",
          "text": [
            "Nombre Piña\n",
            "Edad 18\n",
            "Documento 1025623562\n",
            "Dirección Calle 123\n"
          ]
        }
      ]
    },
    {
      "cell_type": "code",
      "source": [
        "# Diccionarios anidados\n",
        "\n",
        "# Diccionarios simples\n",
        "anidado1 = {\"a\": 1, \"b\": 2}\n",
        "anidado2 = {\"a\": 1, \"b\": 2}\n",
        "\n",
        "# Diccionario que contiene los otros dos como valores\n",
        "d = {\n",
        "    \"anidado1\": anidado1,\n",
        "    \"anidado2\": anidado2\n",
        "}\n",
        "\n",
        "# Imprime el diccionario principal con los anidados dentro\n",
        "print(d)"
      ],
      "metadata": {
        "colab": {
          "base_uri": "https://localhost:8080/"
        },
        "id": "oSrRBex2uLQU",
        "outputId": "f7b9467e-d0bb-46ac-b2c9-bc01fd3b4eb8"
      },
      "execution_count": null,
      "outputs": [
        {
          "output_type": "stream",
          "name": "stdout",
          "text": [
            "{'anidado1': {'a': 1, 'b': 2}, 'anidado2': {'a': 1, 'b': 2}}\n"
          ]
        }
      ]
    },
    {
      "cell_type": "code",
      "source": [
        "# Crear un diccionario con dos pares clave-valor\n",
        "d = {'a': 1, 'b': 2}\n",
        "\n",
        "# Eliminar todos los elementos del diccionario\n",
        "d.clear()\n",
        "\n",
        "# Imprimir el diccionario, que ahora estará vacío\n",
        "print(d)  # Output: {}"
      ],
      "metadata": {
        "id": "hHIwUiNGwhq_"
      },
      "execution_count": null,
      "outputs": []
    },
    {
      "cell_type": "code",
      "source": [
        "d = {'a': 1, 'b': 2}\n",
        "\n",
        "# Obtener el valor asociado a la clave 'a'\n",
        "print(d.get('a'))  # Salida: 1\n",
        "\n",
        "# Intentar obtener el valor de la clave 'z' que no existe\n",
        "# Se especifica un valor por defecto en caso de que la clave no exista\n",
        "print(d.get('z', 'No encontrado'))  # Salida: No encontrado"
      ],
      "metadata": {
        "colab": {
          "base_uri": "https://localhost:8080/"
        },
        "id": "fV1cWu2nwtAP",
        "outputId": "66fee9e1-7867-441b-913b-9b03be5003c8"
      },
      "execution_count": null,
      "outputs": [
        {
          "output_type": "stream",
          "name": "stdout",
          "text": [
            "1\n",
            "No encontrado\n"
          ]
        }
      ]
    },
    {
      "cell_type": "code",
      "source": [
        "d = {'a': 1, 'b': 2}\n",
        "\n",
        "# Obtiene un objeto view con pares (clave, valor)\n",
        "it = d.items()\n",
        "\n",
        "print(it)  # Muestra el objeto dict_items, por ejemplo: dict_items([('a', 1), ('b', 2)])\n",
        "\n",
        "print(list(it))  # Convierte el objeto dict_items en una lista y la imprime:\n",
        "                 # [('a', 1), ('b', 2)]\n",
        "\n",
        "print(list(it)[0][0])  # Accede al primer elemento de la lista (una tupla) y luego a su primer valor (clave)\n",
        "                      # En este caso imprime: 'a'"
      ],
      "metadata": {
        "colab": {
          "base_uri": "https://localhost:8080/"
        },
        "id": "sMwVDqMxxg5s",
        "outputId": "ae8337dc-b083-4872-bc34-7d490a532ad1"
      },
      "execution_count": null,
      "outputs": [
        {
          "output_type": "stream",
          "name": "stdout",
          "text": [
            "dict_items([('a', 1), ('b', 2)])\n",
            "[('a', 1), ('b', 2)]\n",
            "a\n"
          ]
        }
      ]
    },
    {
      "cell_type": "code",
      "source": [
        "d = {'a': 1, 'b': 2}\n",
        "\n",
        "# Obtiene un objeto view con las claves del diccionario\n",
        "k = d.keys()\n",
        "\n",
        "print(k)          # Muestra dict_keys(['a', 'b'])\n",
        "print(list(k))    # Convierte dict_keys a lista y la imprime: ['a', 'b']"
      ],
      "metadata": {
        "id": "KpfxkbwmyYS-"
      },
      "execution_count": null,
      "outputs": []
    },
    {
      "cell_type": "code",
      "source": [
        "d = {'a': 1, 'b': 2}\n",
        "print(list(d.values()))  # Salida: [1, 2]"
      ],
      "metadata": {
        "id": "IV-bFmhbylrk"
      },
      "execution_count": null,
      "outputs": []
    },
    {
      "cell_type": "code",
      "source": [
        "d = {'a': 1, 'b': 2}\n",
        "\n",
        "# Elimina el elemento con clave 'a' y devuelve su valor\n",
        "d.pop('a')\n",
        "\n",
        "# Imprime el diccionario actualizado\n",
        "print(d)  # Salida: {'b': 2}"
      ],
      "metadata": {
        "colab": {
          "base_uri": "https://localhost:8080/"
        },
        "id": "9e9s9-DdzTj8",
        "outputId": "bb10cce7-8c7a-4eed-d98a-61df0b9c7b84"
      },
      "execution_count": null,
      "outputs": [
        {
          "output_type": "stream",
          "name": "stdout",
          "text": [
            "{'b': 2}\n"
          ]
        }
      ]
    },
    {
      "cell_type": "code",
      "source": [
        "d = {'a': 1, 'b': 2}\n",
        "\n",
        "# Intentamos eliminar la clave 'c', que no existe.\n",
        "# Como 'c' no está en el diccionario, devuelve el valor por defecto -1 y no genera error.\n",
        "d.pop('c', -1)\n",
        "\n",
        "print(d)  # Salida: {'a': 1, 'b': 2}"
      ],
      "metadata": {
        "colab": {
          "base_uri": "https://localhost:8080/"
        },
        "id": "c_L1yXd1zyWF",
        "outputId": "18aec3c2-9bb7-4c88-d4f1-ac8cd464f5ad"
      },
      "execution_count": null,
      "outputs": [
        {
          "output_type": "stream",
          "name": "stdout",
          "text": [
            "{'a': 1, 'b': 2}\n"
          ]
        }
      ]
    },
    {
      "cell_type": "code",
      "source": [
        "d = {'a': 1, 'b': 2}\n",
        "\n",
        "# Elimina y devuelve el último par (clave, valor) insertado en el diccionario\n",
        "d.popitem()\n",
        "\n",
        "print(d)  # Salida: {'a': 1}"
      ],
      "metadata": {
        "colab": {
          "base_uri": "https://localhost:8080/"
        },
        "id": "NZNtkVAA0Vay",
        "outputId": "384c1234-28a6-4d6d-ca6e-f1569ab466e7"
      },
      "execution_count": null,
      "outputs": [
        {
          "output_type": "stream",
          "name": "stdout",
          "text": [
            "{'a': 1}\n"
          ]
        }
      ]
    },
    {
      "cell_type": "code",
      "source": [
        "d1 = {'a': 1, 'b': 2}\n",
        "d2 = {'a': 0, 'b': 400}\n",
        "\n",
        "# Actualiza d1 con los pares clave-valor de d2\n",
        "d1.update(d2)\n",
        "\n",
        "print(d1)  # Salida: {'a': 0, 'b': 400}"
      ],
      "metadata": {
        "colab": {
          "base_uri": "https://localhost:8080/"
        },
        "id": "ZKrIswXR0tmW",
        "outputId": "729e5d8f-e59f-4ac6-c9e7-98c380fb055c"
      },
      "execution_count": null,
      "outputs": [
        {
          "output_type": "stream",
          "name": "stdout",
          "text": [
            "{'a': 0, 'b': 400}\n"
          ]
        }
      ]
    }
  ]
}