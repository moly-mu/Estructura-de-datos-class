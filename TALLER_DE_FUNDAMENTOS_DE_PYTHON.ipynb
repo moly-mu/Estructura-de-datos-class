{
  "nbformat": 4,
  "nbformat_minor": 0,
  "metadata": {
    "colab": {
      "provenance": []
    },
    "kernelspec": {
      "name": "python3",
      "display_name": "Python 3"
    },
    "language_info": {
      "name": "python"
    }
  },
  "cells": [
    {
      "cell_type": "code",
      "execution_count": null,
      "metadata": {
        "colab": {
          "base_uri": "https://localhost:8080/"
        },
        "id": "ziilhDEY75Ca",
        "outputId": "9e195f15-e1aa-4973-b248-70ae12407e42"
      },
      "outputs": [
        {
          "output_type": "stream",
          "name": "stdout",
          "text": [
            "hola mundo\n"
          ]
        }
      ],
      "source": [
        "mensaje=\"hola mundo\" #guardamos la variable\n",
        "print(mensaje) #imprimimos el mensaje"
      ]
    },
    {
      "cell_type": "code",
      "source": [
        "nombre = []; #declaramos que el array esta vacio\n",
        "tamaño = 1 # declaramos el tamaño\n",
        "\n",
        "for i in range(tamaño): #las veces que se va a repetir\n",
        "    nombre_input = input(\"Introduce tu nombre: \") # se habilita el campo para que el usuario ingrese su nombre con un mensaje\n",
        "\n",
        "print(\"Holaaaa\", nombre_input) #imprime el mensaje con el nombre ingresado por el usuario"
      ],
      "metadata": {
        "id": "XvHJjoko8VBx"
      },
      "execution_count": null,
      "outputs": []
    },
    {
      "cell_type": "code",
      "source": [
        "# Solicitar los números como entrada y convertirlos a enteros\n",
        "n = int(input(\"Ingresa tu primer número: \"))\n",
        "n2 = int(input(\"Ingresa tu segundo número: \"))\n",
        "\n",
        "# Realizar las operaciones\n",
        "print(\"Operaciones:\")\n",
        "\n",
        "print(\"Suma:\")\n",
        "nt = n + n2  # Suma\n",
        "print(nt)\n",
        "\n",
        "print(\"Resta:\")\n",
        "nt1 = n - n2  # Resta\n",
        "print(nt1)\n",
        "\n",
        "print(\"Multiplicación:\")\n",
        "nt2 = n * n2  # Multiplicación\n",
        "print(nt2)\n",
        "\n",
        "print(\"División:\")\n",
        "nt3 = n / n2  # División\n",
        "print(nt3)\n"
      ],
      "metadata": {
        "id": "Ix1ChLQi9bdZ"
      },
      "execution_count": null,
      "outputs": []
    },
    {
      "cell_type": "code",
      "source": [
        "# Pedir horas trabajadas\n",
        "h = int(input(\"Horas trabajadas: \"))\n",
        "\n",
        "# Pedir pago por hora\n",
        "ph = int(input(\"Pago por hora: \"))\n",
        "\n",
        "# Calcular el sueldo\n",
        "s = h * ph\n",
        "\n",
        "# Mostrar el sueldo\n",
        "print(\"Sueldo:\", s)\n",
        "\n"
      ],
      "metadata": {
        "id": "2Kb_CmhrAhOv"
      },
      "execution_count": null,
      "outputs": []
    },
    {
      "cell_type": "code",
      "source": [
        "n = int(input(\"digita el numero hasta el que deseas sumar: \"))#el usuario ingresa hasta que numero sumarse\n",
        "ac=0 #iniciamos el acumuladior en 0\n",
        "for i in range(1, n + 1): #bucle para que se sumen los numeros n cantidad de veces\n",
        "    ac=ac+i #operacion del acumulador\n",
        "print(ac) #imprime la suma total"
      ],
      "metadata": {
        "id": "RHoBGOhxBMc3"
      },
      "execution_count": null,
      "outputs": []
    },
    {
      "cell_type": "code",
      "source": [
        "# Solicitar al usuario su peso en kilogramos\n",
        "peso = float(input(\"Ingresa tu peso en kilogramos: \"))\n",
        "\n",
        "# Solicitar al usuario su altura en metros\n",
        "altura = float(input(\"Ingresa tu altura en metros: \"))\n",
        "\n",
        "imc=float\n",
        "\n",
        "# Calcular el IMC\n",
        "imc = peso / (altura ** 2)\n",
        "\n",
        "# Mostrar el resultado\n",
        "print(\"Tu IMC es:\", imc)\n"
      ],
      "metadata": {
        "id": "UoFCMTKZC9Tf"
      },
      "execution_count": null,
      "outputs": []
    },
    {
      "cell_type": "code",
      "source": [
        "# Pedir al usuario los dos numeros enteros\n",
        "n = int(input(\"Ingresa el primer número (n): \"))\n",
        "m = int(input(\"Ingresa el segundo número (m): \"))\n",
        "\n",
        "# Calcular el cociente y el resto\n",
        "c = n // m  # Cociente operacion\n",
        "r = n % m   # Resto operacion\n",
        "\n",
        "# Mostrar el resultado\n",
        "print(\"cociente\" , c)\n",
        "print(\"resto\" , r)\n"
      ],
      "metadata": {
        "id": "OJb1Xk91DhrP"
      },
      "execution_count": null,
      "outputs": []
    },
    {
      "cell_type": "code",
      "source": [
        "i = float(input(\"Ingresa la cantidad a invertir: \")) #ingreso de cantidad\n",
        "n = float(input(\"Ingresa el interes anual: \")) #ingreso de interes\n",
        "a = float(input(\"Ingresa la cantidad de años: \")) #ingreso de cantidad de años\n",
        "r= float #variable declarada para el resultado con decimales\n",
        "\n",
        "r = i * (1 + n / 100) ** a #operacion para el capital obtenido\n",
        "\n",
        "print(\"el capital obtenido en la inversión es: \", r) #mensaje y resultado en pantalla"
      ],
      "metadata": {
        "id": "B1H33UmQEecv"
      },
      "execution_count": null,
      "outputs": []
    },
    {
      "cell_type": "code",
      "source": [
        "m = float(input(\"Ingresa la cantidad de muñecas: \")) #el usuario digita la cantidad de muñecas\n",
        "p = float(input(\"Ingresa la cantidad de payasos: \")) #el usuario digita la cantidad de payasos\n",
        "pm = 75 #peso fijo de muñecas\n",
        "pp= 112 #peso fijo de payasos\n",
        "r=float\n",
        "r=(m*pm)+(p*pp) #operacion para el peso total\n",
        "print(\"el peso total del paquete es: \", r) #mensaje y resultado en pantalla"
      ],
      "metadata": {
        "id": "kiq-CnhXGd2u"
      },
      "execution_count": null,
      "outputs": []
    },
    {
      "cell_type": "code",
      "source": [
        "a1 = float(input(\"Ingresa la cantidad ahorrada el primer año: \")) #el usuario digita la cantidad ahorrada el primer año\n",
        "a2 = float(input(\"Ingresa la cantidad ahorrada el segundo año: \")) #el usuario digita la cantidad ahorrada el segundo año\n",
        "a3 = float(input(\"Ingresa la cantidad ahorrada el tercer año: \")) #el usuario digita la cantidad ahorrada el tercer año\n",
        "\n",
        "it = 0.04 #declaramos el interes fijo\n",
        "it1= a1 * it #operacion para el ahorro del primer año\n",
        "it2= a2 * it #operacion para el ahorro del segundo año\n",
        "it3= a3 * it #operacion para el ahorro del tercer año\n",
        "\n",
        "print(\"interes ahorrado el primer año\") #mostramos en pantalla el ahorro del primer año con interes\n",
        "print(it1)\n",
        "print(\"interes ahorrado el segundo año\")#mostramos en pantalla el ahorro del segundo año con interes\n",
        "print(it2)\n",
        "print(\"interes ahorrado el tercer año\")#mostramos en pantalla el ahorro del tercer año con interes\n",
        "print(it3)\n",
        "\n",
        "i=it1+it2+it3 #declaramos una variable para el resultado de la suma de todos los ahorros\n",
        "print(\"interes total ahorrado: \",round(i,2))#resultado de la suma de todos los ahorros con dos decimales"
      ],
      "metadata": {
        "id": "MHleQLLIHzFY"
      },
      "execution_count": null,
      "outputs": []
    },
    {
      "cell_type": "code",
      "source": [
        "pv = float(input(\"Ingresa la cantidad panes que no son del dia: \")) #el usuario digita la cantidad de panes\n",
        "p = 4000 #precio fijo pan\n",
        "pt=4000*pv #precio de la cantidad de panes\n",
        "pv1=pt*0.6 #precio de panes viejos\n",
        "pv2=pt*0.4 #descuento de panes viejos\n",
        "print(\"el precio habitual del pan es 4000\") #impresion\n",
        "\n",
        "print(\"el descuento que se le realizar por no ser fresco es de: \",pv2)#impresion\n",
        "\n",
        "print(\"el precio total a pagar es: \",pv1)#impresion\n"
      ],
      "metadata": {
        "id": "W_MdUATRLi6P"
      },
      "execution_count": null,
      "outputs": []
    },
    {
      "cell_type": "code",
      "source": [
        "palabras = []; #crear lista\n",
        "\n",
        "\n",
        "tamaño = int(input(\"tamaño de la lista\")) #tamaño de lista\n",
        "\n",
        "for i in range(tamaño): # numero de palabras que se ingresan\n",
        "    palabras_input = input(\"palabra: \") #ingresar palabras\n",
        "\n",
        "\n",
        "\n",
        "    palabras.append(palabras_input)\n",
        "\n",
        "\n",
        "print(\"palabras:\", palabras)#impresion de la lista\n",
        "\n"
      ],
      "metadata": {
        "id": "NUEidFcPNX3l"
      },
      "execution_count": null,
      "outputs": []
    },
    {
      "cell_type": "code",
      "source": [
        "palabra = [];#crear lista\n",
        "palabras_input = input(\"palabra: \")#palabra a repetir\n",
        "\n",
        "tamaño_input = input(\"cuantas veces repetiremos la palabra: \") #veces que se repite\n",
        "\n",
        "for i in range(tamaño):\n",
        "  print(palabras_input)#impresion\n",
        "\n",
        "\n"
      ],
      "metadata": {
        "id": "3kNYDnpvOXHt"
      },
      "execution_count": null,
      "outputs": []
    },
    {
      "cell_type": "code",
      "source": [
        "palabras = []\n",
        "\n",
        "p1 = input(\"Ingresa la primera palabra: \")\n",
        "p2 = input(\"Ingresa la segunda palabra: \")\n",
        "\n",
        "palabras = [p1, p2]\n",
        "\n",
        "# intercambiar posiciones\n",
        "palabras[0], palabras[1] = palabras[1], palabras[0]\n",
        "\n",
        "print(\"Lista con palabras invertidas:\", palabras)\n"
      ],
      "metadata": {
        "id": "LxHYmLD1Pdn1"
      },
      "execution_count": null,
      "outputs": []
    },
    {
      "cell_type": "code",
      "source": [
        "palabras = []\n",
        "\n",
        "tamaño = int(input(\"Tamaño de la lista: \"))\n",
        "\n",
        "for i in range(tamaño):#cantidad de palabras que tendra la lista\n",
        "    palabra = input(\"Palabra: \")\n",
        "    palabras.append(palabra)\n",
        "\n",
        "# Crear una lista nueva con los elementos en orden inverso\n",
        "lista_invertida = palabras[::-1]#invierte las palabras\n",
        "\n",
        "print(\"Lista original:\", palabras)\n",
        "print(\"Lista invertida:\", lista_invertida)#impresiones\n"
      ],
      "metadata": {
        "id": "tObF7Y66QK9F"
      },
      "execution_count": null,
      "outputs": []
    }
  ]
}