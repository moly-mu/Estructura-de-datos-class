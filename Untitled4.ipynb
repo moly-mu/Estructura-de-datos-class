{
  "nbformat": 4,
  "nbformat_minor": 0,
  "metadata": {
    "colab": {
      "provenance": []
    },
    "kernelspec": {
      "name": "python3",
      "display_name": "Python 3"
    },
    "language_info": {
      "name": "python"
    }
  },
  "cells": [
    {
      "cell_type": "code",
      "source": [
        "#tarea 1\n",
        "# Crea una lista de usuarios registrados\n",
        "Usuarios_Registrados=[\"ana_dev\",\"luis_ux\",\"carlos_pm\"]\n",
        "# Convierte la lista a un conjunto para obtener usuarios únicos\n",
        "Usuarios_Unicos= set (Usuarios_Registrados)\n",
        "# Define un nuevo usuario\n",
        "nuevo_usuario= \"luis_ux\"\n",
        "# Comprueba si el nuevo usuario ya está en el conjunto de usuarios únicos\n",
        "if nuevo_usuario in Usuarios_Unicos:\n",
        "    # Si el usuario existe, imprime un mensaje\n",
        "    print(\"El usuario ya existe\")\n",
        "else:\n",
        "    # Si el usuario no existe, agrégalo al conjunto\n",
        "    Usuarios_Unicos.add(nuevo_usuario)\n",
        "    # Imprime el conjunto actualizado de usuarios únicos (el orden puede variar en un conjunto)\n",
        "    print(Usuarios_Unicos)\n",
        "    # Imprime un mensaje de éxito\n",
        "    print(\"El usuario se ha registrado correctamente\")"
      ],
      "metadata": {
        "id": "fMpMJHsU5saw"
      },
      "execution_count": null,
      "outputs": []
    },
    {
      "cell_type": "code",
      "source": [
        "#tarea2\n",
        "# Datos iniciales\n",
        "ventas_precios = [15.50, 20.00, 5.75, 15.50, 30.00]\n",
        "productos_vendidos = [\"cafe\", \"torta\", \"galleta\", \"cafe\", \"almuerzo\"]\n",
        "\n",
        "# Calcular el total de ingresos\n",
        "ingresos_totales = sum(ventas_precios)\n",
        "\n",
        "# Crear un conjunto con los productos únicos vendidos\n",
        "productos_unicos = set(productos_vendidos)\n",
        "\n",
        "# Mostrar los resultados\n",
        "print(\"Ingresos totales:\", ingresos_totales)\n",
        "print(\"Número de productos únicos vendidos:\", len(productos_unicos))\n"
      ],
      "metadata": {
        "id": "Gvj7yBJ3GEJE"
      },
      "execution_count": null,
      "outputs": []
    },
    {
      "cell_type": "code",
      "execution_count": null,
      "metadata": {
        "colab": {
          "base_uri": "https://localhost:8080/"
        },
        "id": "XSmrHYqnxf39",
        "outputId": "f3d559a3-8502-41f3-bd0e-ec5fba9ad28b"
      },
      "outputs": [
        {
          "output_type": "stream",
          "name": "stdout",
          "text": [
            "LISTA DE TAREAS\n",
            "['Enviar reporte', 'Revisar correos']\n",
            "\n",
            "Tareas actualizadas\n",
            "['Enviar reporte', 'Revisar correos', 'Llamar al cliente']\n",
            "\n",
            "Lista final\n",
            "['Enviar reporte ..Completada.. ', 'Revisar correos', 'Llamar al cliente']\n"
          ]
        }
      ],
      "source": [
        "#tarea3\n",
        "tareas = [\"Enviar reporte\", \"Revisar correos\"] #primeros datos\n",
        "print(\"LISTA DE TAREAS\")\n",
        "print(tareas)\n",
        "\n",
        "nueva_tarea = \"Llamar al cliente\" #añadimos una nueva tarea\n",
        "tareas.append(nueva_tarea)\n",
        "\n",
        "print(\"\\nTareas actualizadas\")\n",
        "print(tareas) #se imprime la lista con la nueva tarea\n",
        "\n",
        "tareas[0] = tareas[0] + \" ..Completada.. \" #marcamos la primera tarea como completada\n",
        "\n",
        "\n",
        "print(\"\\nLista final\")\n",
        "print(tareas) #se imprime la lista final\n"
      ]
    },
    {
      "cell_type": "code",
      "source": [
        "#tarea4\n",
        "asistentes_ingresados = {\"ID_1122\", \"ID_3344\"} #dejamos el conjunto con los asistentes iniciales\n",
        "\n",
        "persona_llegando = \"ID_5566\" #creamos la variable con la persona que llega\n",
        "\n",
        "if persona_llegando in asistentes_ingresados: #verificamos si ya esta en el conjunto\n",
        "    print(\"Ya habias ingresado\") #si ya esta mostramos este mensajito\n",
        "else:\n",
        "    asistentes_ingresados.add(persona_llegando) #si no esta lo agregamos al conjunto\n",
        "    print(\"Bienvenido\") #mostramos este mensaje\n",
        "\n",
        "persona_llegando = \"ID_1122\" #simulamos que llega la persona ID_1122\n",
        "\n",
        "if persona_llegando in asistentes_ingresados: #verificamos si ya esta en el conjunto\n",
        "    print(\"Ya habias ingresado\") #si ya esta mostramos este mensaje\n",
        "else:\n",
        "    asistentes_ingresados.add(persona_llegando) #si no esta lo agregamos al conjunto\n",
        "    print(\"Bienvenido\") #mostramos este mensaje\n",
        "\n",
        "print(\"\\nConjunto final de asistentes:\") #imprimimos el conjunto final\n",
        "print(asistentes_ingresados)\n"
      ],
      "metadata": {
        "colab": {
          "base_uri": "https://localhost:8080/"
        },
        "id": "pEUsQAV23eIC",
        "outputId": "1742f481-3b54-4fd8-8648-6222c11549c8"
      },
      "execution_count": null,
      "outputs": [
        {
          "output_type": "stream",
          "name": "stdout",
          "text": [
            "Bienvenido\n",
            "Ya habias ingresado\n",
            "\n",
            "Conjunto final de asistentes:\n",
            "{'ID_5566', 'ID_1122', 'ID_3344'}\n"
          ]
        }
      ]
    },
    {
      "cell_type": "code",
      "source": [
        "#tarea5\n",
        "# Datos iniciales\n",
        "calificaciones = [3.5, 4.0, 5.0, 2.5, 3.5, 4.0, 4.8]\n",
        "\n",
        "# Calcular el promedio de las notas\n",
        "promedio = sum(calificaciones) / len(calificaciones)\n",
        "\n",
        "# Crear un conjunto con las notas únicas\n",
        "notas_unicas = set(calificaciones)\n",
        "\n",
        "# Mostrar los resultados\n",
        "print(\"Promedio de las notas:\", round(promedio, 2))\n",
        "print(\"Notas únicas:\", notas_unicas)\n"
      ],
      "metadata": {
        "colab": {
          "base_uri": "https://localhost:8080/"
        },
        "id": "7kv31s2P1Kne",
        "outputId": "616dba5b-778c-4723-bde7-fc588279e89e"
      },
      "execution_count": null,
      "outputs": [
        {
          "output_type": "stream",
          "name": "stdout",
          "text": [
            "Promedio de las notas: 3.9\n",
            "Notas únicas: {2.5, 3.5, 4.8, 4.0, 5.0}\n"
          ]
        }
      ]
    },
    {
      "cell_type": "code",
      "source": [
        "#tarea6\n",
        "# Datos iniciales\n",
        "tallas_disponibles = [\"S\", \"M\", \"L\", \"M\"]\n",
        "\n",
        "# Crear un conjunto con las tallas únicas (sin duplicados)\n",
        "tallas_unicas = set(tallas_disponibles)\n",
        "\n",
        "# Nueva talla que acaba de llegar\n",
        "nueva_talla = \"XL\"\n",
        "tallas_unicas.add(nueva_talla)  # Añadir la talla XL\n",
        "\n",
        "# Intentar añadir talla \"S\" de nuevo\n",
        "tallas_unicas.add(\"S\")\n",
        "\n",
        "# Mostrar el conjunto final de tallas únicas disponibles\n",
        "print(\"Tallas únicas disponibles:\", tallas_unicas)\n"
      ],
      "metadata": {
        "colab": {
          "base_uri": "https://localhost:8080/"
        },
        "id": "6J60VsPwGglj",
        "outputId": "f64d9165-63f0-48d9-ee8c-822c847cd348"
      },
      "execution_count": null,
      "outputs": [
        {
          "output_type": "stream",
          "name": "stdout",
          "text": [
            "Tallas únicas disponibles: {'L', 'S', 'XL', 'M'}\n"
          ]
        }
      ]
    },
    {
      "cell_type": "code",
      "source": [
        "#tarea7\n",
        "# Datos iniciales\n",
        "mis_sugerencias = [\"París\", \"Roma\", \"Berlín\"]\n",
        "sugerencias_amigo = [\"Londres\", \"Roma\", \"Praga\"]\n",
        "\n",
        "# Crear conjuntos con las sugerencias\n",
        "mis_sugerencias_set = set(mis_sugerencias)\n",
        "sugerencias_amigo_set = set(sugerencias_amigo)\n",
        "\n",
        "# Crear un nuevo conjunto con todas las ciudades, sin repeticiones\n",
        "destinos_finales = mis_sugerencias_set.union(sugerencias_amigo_set)\n",
        "\n",
        "# Mostrar el conjunto de destinos finales y cuántos destinos únicos hay en total\n",
        "print(\"Destinos finales:\", destinos_finales)\n",
        "print(\"Número de destinos únicos:\", len(destinos_finales))\n"
      ],
      "metadata": {
        "colab": {
          "base_uri": "https://localhost:8080/"
        },
        "id": "mFc-BfQ1GsvK",
        "outputId": "fd25a091-75f9-45e7-f5b9-c3cc6c884c1c"
      },
      "execution_count": null,
      "outputs": [
        {
          "output_type": "stream",
          "name": "stdout",
          "text": [
            "Destinos finales: {'Berlín', 'París', 'Roma', 'Londres', 'Praga'}\n",
            "Número de destinos únicos: 5\n"
          ]
        }
      ]
    },
    {
      "cell_type": "code",
      "source": [
        "#Ejercicio 8 Analisis de encuesta\n",
        "respuestas = [5, 4, 3, 5, 5, 2, 4, 5, 1, 5]\n",
        "ContadorMax = 0;\n",
        "for i in respuestas:\n",
        "  if i == 5:\n",
        "    ContadorMax += 1\n",
        "opciones = set(respuestas)\n",
        "print(\"Opciones únicas de respuesta:\", opciones)\n",
        "print(\"Total de personas muy satisfechas (5):\", ContadorMax)"
      ],
      "metadata": {
        "id": "ACStz2Pq4M_y"
      },
      "execution_count": null,
      "outputs": []
    },
    {
      "cell_type": "code",
      "source": [
        "#tarea 9\n",
        "# Define una lista de ingredientes para la masa\n",
        "ingredientes_masa = [\"harina\", \"mantequilla\", \"agua\", \"sal\"]\n",
        "# Define una lista de ingredientes para el relleno\n",
        "ingredientes_relleno = [\"queso\", \"espinaca\", \"huevo\", \"sal\"]\n",
        "# Combina las dos listas de ingredientes\n",
        "Ingredientes_juntos= ingredientes_masa + ingredientes_relleno\n",
        "# Imprime la lista combinada de ingredientes, unidos por guiones\n",
        "print(\"-\".join(Ingredientes_juntos))\n",
        "# Imprime una línea en blanco para espaciar\n",
        "print()\n",
        "# Convierte la lista combinada a un conjunto para obtener ingredientes únicos para una lista de compras\n",
        "lista_compras_final= set(Ingredientes_juntos)\n",
        "# Imprime el conjunto de ingredientes únicos, unidos por guiones (el orden puede variar en un conjunto)\n",
        "print(\"-\".join(lista_compras_final))"
      ],
      "metadata": {
        "id": "odrKBeRT5vYD"
      },
      "execution_count": null,
      "outputs": []
    },
    {
      "cell_type": "code",
      "source": [
        "#Ejercicio 10 Filtrado de correo electronico\n",
        "spam_emails = {\"spam1@example.com\", \"ofertas@mal.com\", \"dudoso@mail.net\"}\n",
        "correo_entrante = \"usuario.normal@email.com\"\n",
        "print(\"Correo entrante:\", correo_entrante)\n",
        "if correo_entrante in spam_emails:\n",
        "    print(\"Alerta de SPAM\")\n",
        "else:\n",
        "    print(\"Correo seguro\")\n",
        "correo_entrante = \"ofertas@mal.com\"\n",
        "print(\"Segundo Correo entrante:\", correo_entrante)\n",
        "if correo_entrante in spam_emails:\n",
        "    print(\"Alerta de SPAM\")\n",
        "else:\n",
        "    print(\"Correo seguro\")\n",
        "log_verificaciones = [\"usuario.normal@email.com\", \"ofertas@mal.com\"]\n",
        "print(\"Log de verificaciones:\", log_verificaciones)"
      ],
      "metadata": {
        "id": "8FbzUKyj4Pux"
      },
      "execution_count": null,
      "outputs": []
    }
  ]
}