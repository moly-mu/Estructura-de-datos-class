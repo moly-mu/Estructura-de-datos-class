{
  "nbformat": 4,
  "nbformat_minor": 0,
  "metadata": {
    "colab": {
      "provenance": []
    },
    "kernelspec": {
      "name": "python3",
      "display_name": "Python 3"
    },
    "language_info": {
      "name": "python"
    }
  },
  "cells": [
    {
      "cell_type": "code",
      "execution_count": null,
      "metadata": {
        "id": "HO18e443MD_d"
      },
      "outputs": [],
      "source": [
        "import numpy as np"
      ]
    },
    {
      "cell_type": "code",
      "source": [
        "# crear lista con numeros primos\n",
        "nu_primos = [2, 3, 5, 7, 11, 13, 17, 19, 23, 29]\n",
        "print(nu_primos)"
      ],
      "metadata": {
        "colab": {
          "base_uri": "https://localhost:8080/"
        },
        "id": "uAUH_FAzSfxX",
        "outputId": "11265980-cac4-4e94-ead3-cfde313a9ce8"
      },
      "execution_count": null,
      "outputs": [
        {
          "output_type": "stream",
          "name": "stdout",
          "text": [
            "[2, 3, 5, 7, 11, 13, 17, 19, 23, 29]\n"
          ]
        }
      ]
    },
    {
      "cell_type": "code",
      "source": [
        "# crear array a partir de lista\n",
        "nu_primos_array = np.array(nu_primos)\n",
        "print(nu_primos_array)"
      ],
      "metadata": {
        "id": "YNna0PdoSk71"
      },
      "execution_count": null,
      "outputs": []
    },
    {
      "cell_type": "code",
      "source": [
        "# crear arrays con ceros o cómo inicializar un arreglo de numpy\n",
        "arr_num=np.range(10)\n",
        "print(arr_num)"
      ],
      "metadata": {
        "id": "yS3SINM9SnIG"
      },
      "execution_count": null,
      "outputs": []
    },
    {
      "cell_type": "code",
      "source": [
        "# crear arrays con números\n",
        "arrays_impares=np.arange(0,13,3)\n",
        "arrays_impares"
      ],
      "metadata": {
        "id": "zVoN2j7aSpWc"
      },
      "execution_count": null,
      "outputs": []
    },
    {
      "cell_type": "code",
      "source": [
        "# array con numeros sucesivos\n",
        "arrays_pares=np.arange(0,20,2)\n",
        "arrays_pares"
      ],
      "metadata": {
        "id": "SWgLqNyCSsYL"
      },
      "execution_count": null,
      "outputs": []
    },
    {
      "cell_type": "code",
      "source": [
        "# haciendo un reshape para dos dimensiones\n",
        "arrays_pares.reshape(2,5)"
      ],
      "metadata": {
        "id": "6Fzc9LANSuUP"
      },
      "execution_count": null,
      "outputs": []
    },
    {
      "cell_type": "code",
      "source": [
        "# operaciones aritmeticas sobre np array 1-dimension y 2-dimension\n",
        "arrays_impares=arrays_pares+1\n",
        "print(arrays_impares)"
      ],
      "metadata": {
        "id": "8x7IK8RlSwJQ"
      },
      "execution_count": null,
      "outputs": []
    },
    {
      "cell_type": "code",
      "source": [
        "# multiplicar por 100\n",
        "mtl = arrays_impares + 100\n",
        "print(mtl)"
      ],
      "metadata": {
        "id": "cSVOBxhcSwxO"
      },
      "execution_count": null,
      "outputs": []
    },
    {
      "cell_type": "code",
      "source": [
        "# resta entre arrays\n",
        "rs = arrays_impares - arrays_pares\n",
        "print(rs)"
      ],
      "metadata": {
        "id": "RQFo8wjzSz_G"
      },
      "execution_count": null,
      "outputs": []
    },
    {
      "cell_type": "code",
      "source": [
        "# cuidado con la división entre cero\n",
        "arrays_impares/arrays_pares"
      ],
      "metadata": {
        "id": "00fJ2YM1S30n"
      },
      "execution_count": null,
      "outputs": []
    },
    {
      "cell_type": "code",
      "source": [
        "# métodos asociados a estadística\n",
        "# suma\n",
        "print(arrays_impares.sum())\n",
        "print(arrays_pares.sum())"
      ],
      "metadata": {
        "id": "GazNSdp2S5e7"
      },
      "execution_count": null,
      "outputs": []
    },
    {
      "cell_type": "code",
      "source": [
        "# promedio\n",
        "print(arrays_impares.mean())\n",
        "print(arrays_pares.mean())"
      ],
      "metadata": {
        "id": "rTpFhVRhS645"
      },
      "execution_count": null,
      "outputs": []
    }
  ]
}