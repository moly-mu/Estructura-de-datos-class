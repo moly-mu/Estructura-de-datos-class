{
  "nbformat": 4,
  "nbformat_minor": 0,
  "metadata": {
    "colab": {
      "provenance": []
    },
    "kernelspec": {
      "name": "python3",
      "display_name": "Python 3"
    },
    "language_info": {
      "name": "python"
    }
  },
  "cells": [
    {
      "cell_type": "code",
      "execution_count": null,
      "metadata": {
        "id": "MNOhw674-kwS"
      },
      "outputs": [],
      "source": [
        "pila = []\n",
        "\n",
        "# push: agregamos elementos al final de la lista (tope de la pila)\n",
        "pila.append(\"a\")\n",
        "pila.append(\"b\")\n",
        "pila.append(\"c\")\n",
        "\n",
        "print(pila)  # Salida: ['a', 'b', 'c']"
      ]
    },
    {
      "cell_type": "code",
      "source": [
        "pila = ['a', 'b', 'c']\n",
        "\n",
        "# pop: saca el último elemento agregado (tope de la pila)\n",
        "elemento = pila.pop()\n",
        "\n",
        "print(pila)  # Salida: ['a', 'b']\n",
        "print(\"Elemento sacado:\", elemento)  # Salida: c"
      ],
      "metadata": {
        "id": "1rkIGbje-nbk"
      },
      "execution_count": null,
      "outputs": []
    },
    {
      "cell_type": "code",
      "source": [
        "pila = ['a', 'b', 'c']\n",
        "\n",
        "# Obtener el elemento en la cima (tope) sin sacarlo\n",
        "cima = pila[-1]\n",
        "\n",
        "print(pila)   # Salida: ['a', 'b', 'c']\n",
        "print(cima)   # Salida: c"
      ],
      "metadata": {
        "id": "yf236-Qz-neF"
      },
      "execution_count": null,
      "outputs": []
    },
    {
      "cell_type": "code",
      "source": [
        "pila = []\n",
        "\n",
        "if not pila:\n",
        "    print(\"vacía\")\n",
        "else:\n",
        "    print(\"con elementos\")"
      ],
      "metadata": {
        "id": "LlILUSjE-ngs"
      },
      "execution_count": null,
      "outputs": []
    },
    {
      "cell_type": "code",
      "source": [
        "pila=[10,20,30,40]\n",
        "tamaño=len(pila)\n",
        "print(f\"tamaño: {tamaño}\")"
      ],
      "metadata": {
        "id": "sMPX3O5k-njH"
      },
      "execution_count": null,
      "outputs": []
    },
    {
      "cell_type": "code",
      "source": [
        "def invertir_palabra(palabra):\n",
        "    pila = []\n",
        "\n",
        "    # Push: añadir cada letra\n",
        "    for letra in palabra:\n",
        "        pila.append(letra)\n",
        "\n",
        "    # Pop: extraer en orden inverso\n",
        "    invertida = \"\"\n",
        "    while pila:\n",
        "        invertida += pila.pop()\n",
        "\n",
        "    return invertida\n",
        "\n",
        "print(invertir_palabra(\"Python\"))  # nohtyP\n"
      ],
      "metadata": {
        "colab": {
          "base_uri": "https://localhost:8080/"
        },
        "id": "C_Y8VTxX_SgO",
        "outputId": "8bde3335-be12-484c-a3ac-0c8912e55528"
      },
      "execution_count": null,
      "outputs": [
        {
          "output_type": "stream",
          "name": "stdout",
          "text": [
            "nohtyP\n"
          ]
        }
      ]
    },
    {
      "cell_type": "code",
      "source": [
        "def decimal_a_binario(n):\n",
        "    pila = []\n",
        "    while n > 0:\n",
        "        pila.append(n % 2)\n",
        "        n //= 2\n",
        "\n",
        "    binario = \"\"\n",
        "    while pila:\n",
        "        binario += str(pila.pop())\n",
        "\n",
        "    return binario\n",
        "\n",
        "print(decimal_a_binario(25))  # 11001\n"
      ],
      "metadata": {
        "id": "UdjZ9QuMBnez"
      },
      "execution_count": null,
      "outputs": []
    }
  ]
}