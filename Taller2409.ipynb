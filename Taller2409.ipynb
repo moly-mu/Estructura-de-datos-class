{
  "nbformat": 4,
  "nbformat_minor": 0,
  "metadata": {
    "colab": {
      "provenance": []
    },
    "kernelspec": {
      "name": "python3",
      "display_name": "Python 3"
    },
    "language_info": {
      "name": "python"
    }
  },
  "cells": [
    {
      "cell_type": "code",
      "execution_count": null,
      "metadata": {
        "colab": {
          "base_uri": "https://localhost:8080/"
        },
        "id": "TfRPSxu47caH",
        "outputId": "eb1b9afa-39a6-4e3c-911f-d6afd57bbc67"
      },
      "outputs": [
        {
          "output_type": "stream",
          "name": "stdout",
          "text": [
            "['leche', 'huevos']\n"
          ]
        }
      ],
      "source": [
        "#Tarea1\n",
        "\n",
        "# Crear la lista de compras\n",
        "compras = [\"leche\", \"pan\"]\n",
        "\n",
        "# Añadir \"huevos\" al final\n",
        "compras.append(\"huevos\")\n",
        "\n",
        "# Mover \"leche\" y \"pan\" al inicio (aunque ya están en el inicio, se hace explícitamente)\n",
        "compras = [\"leche\", \"pan\"] + compras[2:]\n",
        "\n",
        "# Eliminar \"pan\"\n",
        "compras.remove(\"pan\")\n",
        "\n",
        "# Mostrar la lista final\n",
        "print(compras)"
      ]
    },
    {
      "cell_type": "code",
      "source": [
        "#Tarea2\n",
        "\n",
        "# Crear el diccionario de perfil de usuario con claves \"nombre\" y \"edad\"\n",
        "usuario = {}\n",
        "\n",
        "# Pedir al usuario que ingrese su nombre y edad\n",
        "usuario[\"nombre\"] = input(\"Introduce tu nombre: \")\n",
        "usuario[\"edad\"] = int(input(\"Introduce tu edad: \"))\n",
        "\n",
        "# Actualizar la edad del usuario (esto es solo un ejemplo, puedes cambiar la edad después si lo deseas)\n",
        "usuario[\"edad\"] = int(input(\"Actualiza tu edad: \"))\n",
        "\n",
        "# Añadir la clave \"ciudad\"\n",
        "usuario[\"ciudad\"] = input(\"Introduce tu ciudad: \")\n",
        "\n",
        "# Mostrar el diccionario final\n",
        "print(\"Perfil del usuario:\", usuario)\n"
      ],
      "metadata": {
        "colab": {
          "base_uri": "https://localhost:8080/"
        },
        "id": "G-UZIdmh7nnx",
        "outputId": "64504f1b-4e74-454a-ae95-ee506d4706e4"
      },
      "execution_count": null,
      "outputs": [
        {
          "output_type": "stream",
          "name": "stdout",
          "text": [
            "Introduce tu nombre: Darian\n",
            "Introduce tu edad: 16\n",
            "Actualiza tu edad: 17\n",
            "Introduce tu ciudad: Bogota\n",
            "Perfil del usuario: {'nombre': 'Darian', 'edad': 17, 'ciudad': 'Bogota'}\n"
          ]
        }
      ]
    },
    {
      "cell_type": "code",
      "source": [
        "#Tarea3\n",
        "\n",
        "# Almacenar las coordenadas (latitud, longitud) en una tupla\n",
        "coordenadas = (40.7128, -74.0060)  # Ejemplo: coordenadas de Nueva York (latitud, longitud)\n",
        "\n",
        "# Desempaquetar la tupla en dos variables: latitud y longitud\n",
        "latitud, longitud = coordenadas\n",
        "\n",
        "# Imprimir las variables\n",
        "print(\"Latitud:\", latitud)\n",
        "print(\"Longitud:\", longitud)\n"
      ],
      "metadata": {
        "colab": {
          "base_uri": "https://localhost:8080/"
        },
        "id": "GztliLVV74bx",
        "outputId": "11d8a646-58a6-48d0-db53-63e6dd5c9003"
      },
      "execution_count": null,
      "outputs": [
        {
          "output_type": "stream",
          "name": "stdout",
          "text": [
            "Latitud: 40.7128\n",
            "Longitud: -74.006\n"
          ]
        }
      ]
    },
    {
      "cell_type": "code",
      "source": [
        "#Tarea4\n",
        "\n",
        "temp = (22.5, 24.0, 21.8, 25.1, 23.9, 22.7, 21.5) #tupla de temp\n",
        "\n",
        "#promedio\n",
        "prom = sum(temp)\n",
        "print(f\"promedio: {prom}\")\n",
        "\n",
        "# Convertir la tupla a un conjunto (set) para obtener solo las temperaturas únicas\n",
        "# Un conjunto elimina los elementos duplicados automáticamente\n",
        "temp_unicas = set(temp)\n",
        "print(temp_unicas)\n",
        "print(f\"cantidad de temperaturas diferentes: {len(temp_unicas)}\") # Muestra la cantidad de temperaturas diferentes (tamaño del conjunto)\n",
        "\n",
        "print(f\"frecuencia de temperaturas\") # Muestra la frecuencia de cada temperatura (cuántas veces aparece en la tupla original)\n",
        "for tm in temp_unicas: # Recorre todas las temperaturas únicas\n",
        "\n",
        "  # count(tm) cuenta cuántas veces aparece la temperatura 'tm' en la tupla 'temp'\n",
        "  contador = temp.count(tm)\n",
        "  print(f\"{tm} aparece {contador} veces\") # Muestra la frecuencia de cada temperatura\n",
        "\n"
      ],
      "metadata": {
        "colab": {
          "base_uri": "https://localhost:8080/"
        },
        "id": "1UlEsVUX8jWx",
        "outputId": "6ec7b6e9-0348-47d8-a15a-d358217d09a2"
      },
      "execution_count": null,
      "outputs": [
        {
          "output_type": "stream",
          "name": "stdout",
          "text": [
            "promedio: 161.5\n",
            "{21.8, 22.5, 23.9, 24.0, 25.1, 22.7, 21.5}\n",
            "cantidad de temperaturas diferentes: 7\n",
            "frecuencia de temperaturas\n",
            "21.8 aparece 1 veces\n",
            "22.5 aparece 1 veces\n",
            "23.9 aparece 1 veces\n",
            "24.0 aparece 1 veces\n",
            "25.1 aparece 1 veces\n",
            "22.7 aparece 1 veces\n",
            "21.5 aparece 1 veces\n"
          ]
        }
      ]
    },
    {
      "cell_type": "code",
      "source": [
        "#Tarea5\n",
        "\n",
        "# Diccionario de traducciones de inglés a español\n",
        "traductor = {\n",
        "    \"two\": \"dos\",\n",
        "    \"dog\": \"perro\",\n",
        "    \"milk\": \"leche\",\n",
        "    \"book\": \"libro\",\n",
        "    \"cake\": \"torta\",\n",
        "    \"one\": \"uno\"\n",
        "}\n",
        "\n",
        "# Solicitar al usuario que ingrese una palabra en inglés\n",
        "palabra_ingles = input(\"Introduce una palabra en inglés: \").lower()  # Convertimos la entrada a minúsculas para hacerla insensible a mayúsculas\n",
        "\n",
        "# Verificar si la palabra está en el diccionario\n",
        "if palabra_ingles in traductor:\n",
        "    # Mostrar la traducción\n",
        "    print(f\"La traducción de '{palabra_ingles}' es '{traductor[palabra_ingles]}'.\")\n",
        "else:\n",
        "    # Si la palabra no existe en el diccionario\n",
        "    print(f\"Lo siento, no se encontro la traducción para '{palabra_ingles}'.\")\n"
      ],
      "metadata": {
        "colab": {
          "base_uri": "https://localhost:8080/"
        },
        "id": "Nd6kh-bW97dK",
        "outputId": "fffc405f-b52b-4a2e-d9ce-c668edb43196"
      },
      "execution_count": null,
      "outputs": [
        {
          "output_type": "stream",
          "name": "stdout",
          "text": [
            "Introduce una palabra en inglés: milk\n",
            "La traducción de 'milk' es 'leche'.\n"
          ]
        }
      ]
    },
    {
      "cell_type": "code",
      "source": [
        "#Tarea6\n",
        "\n",
        "# Tupla de tuplas que almacena el horario de clases\n",
        "horario = (\n",
        "    (\"Aplicaciones moviles\", \"08:00 AM\"),\n",
        "    (\"Matematicas basicas\", \"10:00 AM\"),\n",
        "    (\"danzas\", \"12:00 PM\"),\n",
        "    (\"Electromagnetismo\", \"02:00 PM\"),\n",
        "    (\"Arte\", \"04:00 PM\")\n",
        ")\n",
        "\n",
        "# Recorremos el horario e imprimimos cada clase\n",
        "print(\"Horario de clases:\")\n",
        "for materia, hora in horario:\n",
        "    print(f\"{materia} - {hora}\")\n"
      ],
      "metadata": {
        "colab": {
          "base_uri": "https://localhost:8080/"
        },
        "id": "tRUQ2Hdw-uP4",
        "outputId": "78c84d59-d220-45cd-eed2-a307d492b407"
      },
      "execution_count": null,
      "outputs": [
        {
          "output_type": "stream",
          "name": "stdout",
          "text": [
            "Horario de clases:\n",
            "Aplicaciones moviles - 08:00 AM\n",
            "Matematicas basicas - 10:00 AM\n",
            "danzas - 12:00 PM\n",
            "Electromagnetismo - 02:00 PM\n",
            "Arte - 04:00 PM\n"
          ]
        }
      ]
    },
    {
      "cell_type": "code",
      "source": [
        "#Tarea7\n",
        "\n",
        "# Listas de invitados\n",
        "invitados_lista1 = [\"Ana\", \"Luis\", \"Marta\", \"Pedro\"]\n",
        "invitados_lista2 = [\"Luis\", \"Sofía\", \"Ana\", \"Juan\"]\n",
        "\n",
        "# Combinar las dos listas y eliminar los duplicados\n",
        "invitados_combinados = list(set(invitados_lista1 + invitados_lista2))\n",
        "\n",
        "# Mostrar la lista final de invitados sin duplicados\n",
        "print(\"Lista final de invitados:\")\n",
        "print(invitados_combinados)\n"
      ],
      "metadata": {
        "colab": {
          "base_uri": "https://localhost:8080/"
        },
        "id": "7_7hK0bJ-0BH",
        "outputId": "4ab68aaf-097c-49e4-d7a7-9bc9ee4db1d5"
      },
      "execution_count": null,
      "outputs": [
        {
          "output_type": "stream",
          "name": "stdout",
          "text": [
            "Lista final de invitados:\n",
            "['Marta', 'Juan', 'Ana', 'Pedro', 'Luis', 'Sofía']\n"
          ]
        }
      ]
    },
    {
      "cell_type": "code",
      "source": [
        "#Tarea8\n",
        "\n",
        "# Lista de diccionarios que representa el inventario de productos\n",
        "inventario = [\n",
        "    {\"nombre\": \"Galletas\", \"precio\": 5000, \"stock\": 12},\n",
        "    {\"nombre\": \"Helado\", \"precio\": 12500, \"stock\": 35},\n",
        "    {\"nombre\": \"Cereal\", \"precio\": 13800, \"stock\": 26},\n",
        "    {\"nombre\": \"Pastel\", \"precio\": 35000, \"stock\": 31}\n",
        "]\n",
        "\n",
        "# Función para buscar un producto por su nombre\n",
        "def buscar_producto(nombre_producto):\n",
        "    for producto in inventario:\n",
        "        if producto[\"nombre\"].lower() == nombre_producto.lower():  # Ignora mayúsculas y minúsculas\n",
        "            return producto\n",
        "    return None  # Si no se encuentra el producto, devuelve None\n",
        "\n",
        "# Solicitar al usuario el nombre del producto que quiere buscar\n",
        "nombre_producto = input(\"Introduce el nombre del producto que deseas buscar: \")\n",
        "\n",
        "# Buscar el producto y mostrar el resultado\n",
        "producto_encontrado = buscar_producto(nombre_producto)\n",
        "\n",
        "if producto_encontrado:\n",
        "    print(f\"Producto encontrado: {producto_encontrado}\")\n",
        "else:\n",
        "    print(f\"El producto '{nombre_producto}' no está en el inventario.\")"
      ],
      "metadata": {
        "colab": {
          "base_uri": "https://localhost:8080/"
        },
        "id": "yXN7PBbi_Oyo",
        "outputId": "26508681-2567-41af-9ffd-80e4b53fe152"
      },
      "execution_count": null,
      "outputs": [
        {
          "output_type": "stream",
          "name": "stdout",
          "text": [
            "Introduce el nombre del producto que deseas buscar: galletas\n",
            "Producto encontrado: {'nombre': 'Galletas', 'precio': 5000, 'stock': 12}\n"
          ]
        }
      ]
    },
    {
      "cell_type": "code",
      "source": [
        "#Tarea9\n",
        "\n",
        "# Diccionario de estudiantes con sus notas\n",
        "estudiantes = {\n",
        "    \"Alan\": [1.5, 5.0, 3.5],\n",
        "    \"David\": [2.8, 4.2, 3.4],\n",
        "    \"Jose\": [5.0, 5.0, 5.0]\n",
        "}\n",
        "\n",
        "# Solicitar al usuario el nombre del estudiante y la nueva nota\n",
        "nombre_estudiante = input(\"Introduce el nombre del estudiante: \")\n",
        "nueva_nota = float(input(f\"Introduce la nueva nota de {nombre_estudiante}: \"))\n",
        "\n",
        "# Verificar si el estudiante ya está en el diccionario\n",
        "if nombre_estudiante in estudiantes:\n",
        "    # Añadir la nueva nota a la lista de notas del estudiante\n",
        "    estudiantes[nombre_estudiante].append(nueva_nota)\n",
        "    print(f\"Nota añadida a {nombre_estudiante}. Las notas actualizadas son: {estudiantes[nombre_estudiante]}\")\n",
        "else:\n",
        "    print(f\"El estudiante {nombre_estudiante} no existe en el diccionario.\")\n"
      ],
      "metadata": {
        "colab": {
          "base_uri": "https://localhost:8080/"
        },
        "id": "brtYgqUn_rAJ",
        "outputId": "fb44dd1c-658d-4b75-9172-15c5c61c9709"
      },
      "execution_count": null,
      "outputs": [
        {
          "output_type": "stream",
          "name": "stdout",
          "text": [
            "Introduce el nombre del estudiante: Jose\n",
            "Introduce la nueva nota de Jose: 1.0\n",
            "Nota añadida a Jose. Las notas actualizadas son: [5.0, 5.0, 5.0, 1.0]\n"
          ]
        }
      ]
    },
    {
      "cell_type": "code",
      "source": [
        "#Tarea10\n",
        "\n",
        "# Lista original de números\n",
        "numeros = [1, 2, 3, 4, 5, 6, 7, 8, 9, 10]\n",
        "\n",
        "# Lista por comprensión para obtener solo los números pares\n",
        "numeros_pares = [numero for numero in numeros if numero % 2 == 0]\n",
        "\n",
        "# Imprimir la lista de números pares\n",
        "print(\"Números pares:\", numeros_pares)\n"
      ],
      "metadata": {
        "id": "rbYxzpdV_sPI"
      },
      "execution_count": null,
      "outputs": []
    },
    {
      "cell_type": "code",
      "source": [
        "#Tarea11\n",
        "\n",
        "# Lista de diccionarios de estudiantes\n",
        "estudiantes = [\n",
        "    {\"nombre\": \"Ana\", \"promedio\": 4.5, \"curso\": \"10A\"},\n",
        "    {\"nombre\": \"Luis\", \"promedio\": 3.8, \"curso\": \"10B\"},\n",
        "    {\"nombre\": \"Marta\", \"promedio\": 4.8, \"curso\": \"10A\"},\n",
        "    {\"nombre\": \"Pedro\", \"promedio\": 3.9, \"curso\": \"10C\"},\n",
        "    {\"nombre\": \"Sofía\", \"promedio\": 4.2, \"curso\": \"10B\"}\n",
        "]\n",
        "\n",
        "# Filtrar estudiantes con un promedio superior a 4.0\n",
        "estudiantes_filtrados = [\n",
        "    estudiante[\"nombre\"]\n",
        "    for estudiante in estudiantes\n",
        "    if estudiante[\"promedio\"] > 4.0\n",
        "]\n",
        "\n",
        "# Imprimir la lista de estudiantes filtrados\n",
        "print(\"Estudiantes con promedio superior a 4.0:\", estudiantes_filtrados)\n",
        "\n"
      ],
      "metadata": {
        "id": "kesNzrbZ_tAg"
      },
      "execution_count": null,
      "outputs": []
    },
    {
      "cell_type": "code",
      "source": [
        "#Tarea12\n",
        "\n",
        "# Lista de tuplas que representan las ventas\n",
        "ventas = [\n",
        "    (\"Laptop\", \"Electrónica\", 1500),\n",
        "    (\"Camisa\", \"Ropa\", 80),\n",
        "    (\"Mouse\", \"Electrónica\", 50),\n",
        "    (\"Pantalón\", \"Ropa\", 120),\n",
        "    (\"Teclado\", \"Electrónica\", 70)\n",
        "]\n",
        "\n",
        "# Diccionario para almacenar el total de ventas por categoría\n",
        "ventas_por_categoria = {}\n",
        "\n",
        "# Recorrer las ventas para acumular los totales por categoría\n",
        "for producto, categoria, monto in ventas:\n",
        "    if categoria in ventas_por_categoria:\n",
        "        # Si la categoría ya existe, sumar el monto\n",
        "        ventas_por_categoria[categoria] += monto\n",
        "    else:\n",
        "        # Si la categoría no existe, crearla con el monto inicial\n",
        "        ventas_por_categoria[categoria] = monto\n",
        "\n",
        "# Mostrar el total de ventas por categoría\n",
        "print(\"Total de ventas por categoría:\")\n",
        "for categoria, total in ventas_por_categoria.items():\n",
        "    print(f\"{categoria}: ${total}\")\n"
      ],
      "metadata": {
        "id": "lHDbcbvI_tuo"
      },
      "execution_count": null,
      "outputs": []
    },
    {
      "cell_type": "code",
      "source": [
        "#Tarea13\n",
        "\n",
        "# Diccionario con la información sobre el libro\n",
        "libro = {\n",
        "    \"titulo\": \"Python para Todos\",\n",
        "    \"año\": 2024,\n",
        "    \"autores\": [\n",
        "        {\"nombre\": \"Raúl\", \"nacionalidad\": \"Española\"},\n",
        "        {\"nombre\": \"Laura\", \"nacionalidad\": \"Mexicana\"}\n",
        "    ],\n",
        "    \"editorial\": \"Ediciones Código\"\n",
        "}\n",
        "\n",
        "# Crear una lista con los nombres de los autores\n",
        "nombres_autores = [autor[\"nombre\"] for autor in libro[\"autores\"]]\n",
        "\n",
        "# Imprimir la lista de nombres de los autores\n",
        "print(\"Nombres de los autores:\", nombres_autores)\n"
      ],
      "metadata": {
        "id": "DtR5O03z_upH"
      },
      "execution_count": null,
      "outputs": []
    },
    {
      "cell_type": "code",
      "source": [
        "#Tarea14\n",
        "\n",
        "# Diccionario de productos con su ID y nombre\n",
        "productos = {\n",
        "    101: \"Leche\",\n",
        "    102: \"Pan\",\n",
        "    103: \"Huevos\"\n",
        "}\n",
        "\n",
        "# Diccionario de precios con el ID del producto y su precio\n",
        "precios = {\n",
        "    101: 4500,\n",
        "    102: 2500,\n",
        "    103: 8000\n",
        "}\n",
        "\n",
        "# Lista de ventas del día (ID del producto, cantidad vendida)\n",
        "ventas_del_dia = [\n",
        "    (101, 5),  # Se vendieron 5 unidades de Leche\n",
        "    (102, 10), # Se vendieron 10 unidades de Pan\n",
        "    (101, 3),  # Se vendieron 3 unidades más de Leche\n",
        "    (103, 2)   # Se vendieron 2 unidades de Huevos\n",
        "]\n",
        "\n",
        "# Calcular el ingreso total del día\n",
        "ingreso_total = 0\n",
        "\n",
        "# Recorremos la lista de ventas del día\n",
        "for producto_id, cantidad_vendida in ventas_del_dia:\n",
        "    # Obtenemos el precio del producto usando su ID\n",
        "    precio = precios.get(producto_id, 0)  # Usamos 0 como valor por defecto si el ID no existe\n",
        "    # Calculamos el ingreso por esa venta y lo sumamos al total\n",
        "    ingreso_total += precio * cantidad_vendida\n",
        "\n",
        "# Imprimir el ingreso total\n",
        "print(f\"Ingreso total del día: ${ingreso_total}\")"
      ],
      "metadata": {
        "id": "zS_0PMZn_vfY"
      },
      "execution_count": null,
      "outputs": []
    },
    {
      "cell_type": "markdown",
      "source": [
        "TALLER SESION 13\n",
        "DARIAN JOSE MOLINA NEGRETE ˙⋆✮"
      ],
      "metadata": {
        "id": "Fqq_VU49DjaA"
      }
    }
  ]
}