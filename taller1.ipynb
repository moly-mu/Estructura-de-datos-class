{
  "nbformat": 4,
  "nbformat_minor": 0,
  "metadata": {
    "colab": {
      "provenance": []
    },
    "kernelspec": {
      "name": "python3",
      "display_name": "Python 3"
    },
    "language_info": {
      "name": "python"
    }
  },
  "cells": [
    {
      "cell_type": "code",
      "execution_count": null,
      "metadata": {
        "colab": {
          "base_uri": "https://localhost:8080/"
        },
        "id": "F9h7UDpt7cXV",
        "outputId": "312bf37c-1bb5-4484-d183-f27157f372b6"
      },
      "outputs": [
        {
          "output_type": "stream",
          "name": "stdout",
          "text": [
            "hola mundo :/\n"
          ]
        }
      ],
      "source": [
        "#1\n",
        "saludo=\"hola mundo :/\"  #se declara la variable\n",
        "print (saludo) # se imprime el mensaje de la variable"
      ]
    },
    {
      "cell_type": "code",
      "source": [
        "#2\n",
        "nombre = input(\"escribe tu nombre:\") # se usa input para poder que el usuario escriba por consola\n",
        "print(\"hola \" + nombre) #se usa el print para enviar la respuesta concatenada con el mensaje"
      ],
      "metadata": {
        "id": "LgPUaK2d9Plx"
      },
      "execution_count": null,
      "outputs": []
    },
    {
      "cell_type": "code",
      "source": [
        "#3\n",
        "num1 = int(input(\"Escribe el 1er numero:\")) # se declaran las variables\n",
        "num2 = int(input(\"Escribe el 2do numero:\"))\n",
        "# se genran las operaciones básicas\n",
        "suma = num1+num2\n",
        "resta = num1- num2\n",
        "multi = num1 * num2\n",
        "if num2!= 0: # se usa un if para evitar error si el usuario digita 0\n",
        "  divi = num1 / num2\n",
        "else:\n",
        "  divi = \"No se puede dividir entre 0\"\n",
        "print(\"suma\", suma )# se inmprime las respuestas\n",
        "print(\"resta\", resta )\n",
        "print(\"multiplicación\", multi )\n",
        "print(\"division\", divi )"
      ],
      "metadata": {
        "colab": {
          "base_uri": "https://localhost:8080/"
        },
        "id": "tgMogvd--ddh",
        "outputId": "a1370abf-5711-4f98-8f50-c1cc01def9ff"
      },
      "execution_count": null,
      "outputs": [
        {
          "output_type": "stream",
          "name": "stdout",
          "text": [
            "Escribe el 1er numero:4\n",
            "Escribe el 2do numero:0\n",
            "suma 4\n",
            "resta 4\n",
            "multiplicación 0\n",
            "division No se puede dividir entre 0\n"
          ]
        }
      ]
    },
    {
      "cell_type": "code",
      "source": [
        "#4\n",
        "hrt = int(input(\"Escribe el numero de horas trabajadas:\")) # se solicita al usuario y se almacena en una variable\n",
        "pgt =int(input(\"Escribe el pago por hora\"))\n",
        "#se realiza la operacion para sacar el apago\n",
        "multi = hrt*pgt\n",
        "print(\"el valor que corresponde al pago es\", multi) # se imprime el resultado"
      ],
      "metadata": {
        "colab": {
          "base_uri": "https://localhost:8080/"
        },
        "id": "2CBk5xAbAH0p",
        "outputId": "ff974ae0-d164-4526-e762-6d54e7bb28e8"
      },
      "execution_count": null,
      "outputs": [
        {
          "output_type": "stream",
          "name": "stdout",
          "text": [
            "Escribe el numero de horas trabajadas:5\n",
            "Escribe el pago por hora1000\n",
            "el valor que corresponde al pago es 5000\n"
          ]
        }
      ]
    },
    {
      "cell_type": "code",
      "source": [
        "#5\n",
        "n =int(input(\"Escribe un numero entero\")) # se solicita el numero para almacenarlo en la variable\n",
        "#se genera un for para hacer un la suma de losnumeros\n",
        "for  i in range (1, n+1):\n",
        "  suma +=i\n",
        "print(\" la suma de los numero del 1 hasta\",n , \"es\", suma)# se imprime el resultado"
      ],
      "metadata": {
        "colab": {
          "base_uri": "https://localhost:8080/"
        },
        "id": "fdc_sT-8CAQa",
        "outputId": "8caea8b6-3630-4ac6-82e6-6ac540529623"
      },
      "execution_count": null,
      "outputs": [
        {
          "output_type": "stream",
          "name": "stdout",
          "text": [
            "Escribe un numero entero6\n",
            " la suma de los numero del 1 hasta 6 es 25\n"
          ]
        }
      ]
    },
    {
      "cell_type": "code",
      "source": [
        "#6\n",
        "peso =float(input(\"Escribe tu peso en kg\"))# se solicita al cliente que digite lo valores para ser almacenados\n",
        "est =float(input(\"Escribe tu estatura en metros\"))\n",
        "imc = peso / (est ** 2) # se realiza la operación para sacar el resultado  se almacena en otra variable\n",
        "print(\"el índice de masa corporal calculado es \", imc) # se imprime el resultado"
      ],
      "metadata": {
        "colab": {
          "base_uri": "https://localhost:8080/"
        },
        "id": "zUfAQ1ZgCCDN",
        "outputId": "abe125f3-57ec-4b69-8e36-489918e6bf34"
      },
      "execution_count": null,
      "outputs": [
        {
          "output_type": "stream",
          "name": "stdout",
          "text": [
            "Escribe tu peso en kg56\n",
            "Escribe tu estatura en metros177\n",
            "el índice de masa corporal calculado es  0.0017874812474065562\n"
          ]
        }
      ]
    },
    {
      "cell_type": "code",
      "source": [
        "#7\n",
        "n = int(input(\"Escribe el primer numero n\"))\n",
        "m = int(input(\"Escribe el primer numero m\"))# se solicita al cliente que digite lo valores para ser almacenados\n",
        "\n",
        "cos = n//m# se realiza la operación para sacar el resultado  se almacena en otra variable\n",
        "res = n%m\n",
        "\n",
        "print(f\"{n} entre {m} da un cosiente {cos} y un resto {res} \")# se imprime el resultado"
      ],
      "metadata": {
        "colab": {
          "base_uri": "https://localhost:8080/"
        },
        "id": "oEy8v5N9EjbT",
        "outputId": "417d5c39-608f-4195-bd90-497584ba61ca"
      },
      "execution_count": null,
      "outputs": [
        {
          "output_type": "stream",
          "name": "stdout",
          "text": [
            "Escribe el primer numero n5\n",
            "Escribe el primer numero m5\n",
            "5 entre 5 da un cosiente 1 y un resto 0 \n"
          ]
        }
      ]
    },
    {
      "cell_type": "code",
      "source": [
        "#8\n",
        "inver = float(input(\"Escribe la cantidad a invertir\"))# se solicita al cliente que digite lo valores para ser almacenados\n",
        "inter = float(input(\"Escribe el interes anual \"))\n",
        "años= int(input(\"Escribe la cantidad de años \"))\n",
        "\n",
        "cap = inver*(1+inter / 100 )** años # se realiza la operación para sacar el resultado  se almacena en otra variable\n",
        "\n",
        "print(f\"El capital obtenido es {round(cap,2)}\"))# se imprime el resultado"
      ],
      "metadata": {
        "colab": {
          "base_uri": "https://localhost:8080/"
        },
        "id": "V8RPCNhMF1t6",
        "outputId": "cb6198e9-a247-41c8-faa9-ca2d619586e3"
      },
      "execution_count": null,
      "outputs": [
        {
          "output_type": "stream",
          "name": "stdout",
          "text": [
            "Escribe la cantidad a invertir555\n",
            "Escribe el interes anual 321\n",
            "Escribe la cantidad de años 2\n",
            "El capital obtenido es 9836.88\n"
          ]
        }
      ]
    },
    {
      "cell_type": "code",
      "source": [
        "#9\n",
        "clown = int(input(\"Escribe la cantidad de payasosn vendidos\"))# se solicita al cliente que digite lo valores para ser almacenados\n",
        "doll = int(input(\"Escribe la cantidad de muñecas vendidos\"))\n",
        "\n",
        "pclown = 112\n",
        "pdoll = 75\n",
        "\n",
        "pest= (pclown * clown) + (pdoll * doll)#se realiza la operación para sacar el resultado  se almacena en otra variable\n",
        "\n",
        "print(f\" el peso total del paquete es {pest} gramops\")# se imprime el resultado"
      ],
      "metadata": {
        "colab": {
          "base_uri": "https://localhost:8080/"
        },
        "id": "mt_exXbkHdur",
        "outputId": "8ecac625-5459-4513-8fcf-8e08c18ccce4"
      },
      "execution_count": null,
      "outputs": [
        {
          "output_type": "stream",
          "name": "stdout",
          "text": [
            "Escribe la cantidad de payasosn vendidos5\n",
            "Escribe la cantidad de muñecas vendidos3\n",
            " el peso total del paquete es 785 gramops\n"
          ]
        }
      ]
    },
    {
      "cell_type": "code",
      "source": [
        "#10\n",
        "# Solicita al usuario la cantidad de dinero depositada en la cuenta\n",
        "ahor = float(input(\"Introduce la cantidad depositada en la cuenta: \"))\n",
        "\n",
        "# Tasa de interés anual (40%)\n",
        "inter = 0.40\n",
        "\n",
        "# Cálculo de los ahorros después de cada año, aplicando interés compuesto\n",
        "primeraño = ahor * (1 + inter) ** 1  # Ahorros tras 1 año\n",
        "segunaño = ahor * (1 + inter) ** 2  # Ahorros tras 2 años\n",
        "terceraño = ahor * (1 + inter) ** 3  # Ahorros tras 3 años\n",
        "\n",
        "# Muestra los ahorros después de cada año, redondeando a 2 decimales\n",
        "print(f\"Ahorros tras 1er año: ${round(primeraño, 2)}\")\n",
        "print(f\"Ahorros tras 2do año: ${round(segunaño, 2)}\")\n",
        "print(f\"Ahorros tras 3er año: ${round(terceraño, 2)}\")\n"
      ],
      "metadata": {
        "colab": {
          "base_uri": "https://localhost:8080/"
        },
        "id": "eXR_76T9Kvoj",
        "outputId": "30e3132c-9a10-4558-bd6f-9c0e74aa7b45"
      },
      "execution_count": null,
      "outputs": [
        {
          "output_type": "stream",
          "name": "stdout",
          "text": [
            "introduce la cantidad despositada en la cuenta2000\n",
            "ahorros tras 1er año 2800.0\n",
            "ahorros tras 2do año 3920.0\n",
            "ahorros tras 3er año 5488.0\n"
          ]
        }
      ]
    },
    {
      "cell_type": "code",
      "source": [
        "#11\n",
        "# Precio habitual de una barra de pan\n",
        "prebar = 4000\n",
        "\n",
        "# Descuento para las barras que no son del día (60%)\n",
        "desc = 0.60\n",
        "\n",
        "# Solicita al usuario cuántas barras no frescas desea comprar\n",
        "barranof = int(input(\"Número de barras que no son del día: \"))\n",
        "\n",
        "# Calcula el precio con descuento por una barra no fresca\n",
        "predesc = prebar * (1 - desc)\n",
        "\n",
        "# Calcula el costo total por todas las barras no frescas\n",
        "costt = barranof * predesc\n",
        "\n",
        "# Muestra el precio habitual de una barra\n",
        "print(f\"Precio habitual de una barra es: ${prebar}\")\n",
        "\n",
        "# Muestra el porcentaje de descuento aplicado\n",
        "print(f\"Descuento aplicado: {int(desc * 100)}%\")\n",
        "\n",
        "# Muestra el costo total por la cantidad de barras no frescas\n",
        "print(f\"Costo total por {barranof} barras no frescas: ${round(costt, 2)}\")\n"
      ],
      "metadata": {
        "colab": {
          "base_uri": "https://localhost:8080/"
        },
        "id": "tcRh8-DmJVYD",
        "outputId": "202f765b-25de-4a03-8411-e386ab80ba91"
      },
      "execution_count": null,
      "outputs": [
        {
          "output_type": "stream",
          "name": "stdout",
          "text": [
            " numero de barras que no son del dia 5\n",
            "precio habitual de una barra es $4000\n",
            "descuento aplicado es 60%\n",
            "costo total por $5 barras no frescas $ 8000.0\n"
          ]
        }
      ]
    },
    {
      "cell_type": "code",
      "source": [
        "#12\n",
        "# Solicita al usuario cuántas palabras desea agregar a la lista\n",
        "n = int(input(\"¿Cuántas palabras deseas agregar en la lista? \"))\n",
        "\n",
        "# Se crea una lista vacía para almacenar las palabras\n",
        "palabras = []\n",
        "\n",
        "# Bucle que se repite 'n' veces para ingresar palabras\n",
        "for i in range(n):\n",
        "    # Solicita al usuario ingresar una palabra\n",
        "    palabra = input(f\"Ingrese la palabra {i + 1}: \")\n",
        "\n",
        "    # Agrega la palabra a la lista\n",
        "    palabras.append(palabra)\n",
        "\n",
        "    # Muestra la lista actualizada después de cada palabra ingresada\n",
        "    print(\"La lista de palabras es:\")\n",
        "    print(palabras)"
      ],
      "metadata": {
        "colab": {
          "base_uri": "https://localhost:8080/"
        },
        "id": "EAtYGoncOYhz",
        "outputId": "f589ecb3-5144-4891-dc0c-c59e2fabc8f8"
      },
      "execution_count": null,
      "outputs": [
        {
          "output_type": "stream",
          "name": "stdout",
          "text": [
            " cuantas palabras deseas agregar en la lista?15\n",
            "ingrese la palabra 12\n",
            "la lista de palabras es:\n",
            "['2']\n",
            "ingrese la palabra 20\n",
            "la lista de palabras es:\n",
            "['2', '0']\n",
            "ingrese la palabra 345464\n",
            "la lista de palabras es:\n",
            "['2', '0', '45464']\n",
            "ingrese la palabra 441\n",
            "la lista de palabras es:\n",
            "['2', '0', '45464', '41']\n",
            "ingrese la palabra 5\n",
            "la lista de palabras es:\n",
            "['2', '0', '45464', '41', '']\n",
            "ingrese la palabra 64\n",
            "la lista de palabras es:\n",
            "['2', '0', '45464', '41', '', '4']\n",
            "ingrese la palabra 74\n",
            "la lista de palabras es:\n",
            "['2', '0', '45464', '41', '', '4', '4']\n",
            "ingrese la palabra 84\n",
            "la lista de palabras es:\n",
            "['2', '0', '45464', '41', '', '4', '4', '4']\n",
            "ingrese la palabra 94\n",
            "la lista de palabras es:\n",
            "['2', '0', '45464', '41', '', '4', '4', '4', '4']\n",
            "ingrese la palabra 104\n",
            "la lista de palabras es:\n",
            "['2', '0', '45464', '41', '', '4', '4', '4', '4', '4']\n",
            "ingrese la palabra 114\n",
            "la lista de palabras es:\n",
            "['2', '0', '45464', '41', '', '4', '4', '4', '4', '4', '4']\n",
            "ingrese la palabra 124\n",
            "la lista de palabras es:\n",
            "['2', '0', '45464', '41', '', '4', '4', '4', '4', '4', '4', '4']\n",
            "ingrese la palabra 134\n",
            "la lista de palabras es:\n",
            "['2', '0', '45464', '41', '', '4', '4', '4', '4', '4', '4', '4', '4']\n",
            "ingrese la palabra 144\n",
            "la lista de palabras es:\n",
            "['2', '0', '45464', '41', '', '4', '4', '4', '4', '4', '4', '4', '4', '4']\n",
            "ingrese la palabra 154\n",
            "la lista de palabras es:\n",
            "['2', '0', '45464', '41', '', '4', '4', '4', '4', '4', '4', '4', '4', '4', '4']\n"
          ]
        }
      ]
    },
    {
      "cell_type": "code",
      "source": [
        "#13\n",
        "# Solicita al usuario cuántas palabras desea ingresar\n",
        "n = int(input(\"¿Cuántas palabras deseas agregar en la lista? \"))\n",
        "\n",
        "# Crea una lista vacía para almacenar las palabras\n",
        "palabras = []\n",
        "\n",
        "# Bucle para ingresar cada palabra\n",
        "for i in range(n):\n",
        "    palabra = input(f\"Ingrese la palabra {i + 1}: \")  # Solicita palabra\n",
        "    palabras.append(palabra)  # Agrega la palabra a la lista\n",
        "\n",
        "# Muestra la lista completa de palabras ingresadas\n",
        "print(\"\\nLa lista de palabras es:\", palabras)\n",
        "\n",
        "# Solicita al usuario la palabra que desea buscar en la lista\n",
        "buscar = input(\"\\nIngrese la palabra que desea buscar: \")\n",
        "\n",
        "# Cuenta cuántas veces aparece la palabra buscada en la lista\n",
        "contador = palabras.count(buscar)\n",
        "\n",
        "# Muestra cuántas veces aparece la palabra\n",
        "print(f\"La palabra '{buscar}' aparece {contador} veces en la lista.\")\n"
      ],
      "metadata": {
        "colab": {
          "base_uri": "https://localhost:8080/"
        },
        "id": "g4EB5u6XPWB9",
        "outputId": "6d83d1cf-2b10-4275-bbdd-f0443a97b489"
      },
      "execution_count": null,
      "outputs": [
        {
          "output_type": "stream",
          "name": "stdout",
          "text": [
            " cuantas palabras deseas agregar en la lista?2\n",
            "ingrese la palabra 1arro\n",
            "\n",
            "la lista de palabras es: ['arro']\n",
            "\n",
            " ingrese la palabra que desea buscararroz\n",
            "la palabra 'arroz' apareces 0 veces en la lista\n",
            "ingrese la palabra 25\n",
            "\n",
            "la lista de palabras es: ['arro', '5']\n",
            "\n",
            " ingrese la palabra que desea buscar5\n",
            "la palabra '5' apareces 1 veces en la lista\n"
          ]
        }
      ]
    },
    {
      "cell_type": "code",
      "source": [
        "#14\n",
        "# Pedimos el número de palabras\n",
        "n = int(input(\"¿Cuántas palabras quieres ingresar? \"))\n",
        "\n",
        "# Creamos la lista de palabras\n",
        "palabras = []\n",
        "for i in range(n):\n",
        "    palabra = input(f\"Ingrese la palabra {i+1}: \")\n",
        "    palabras.append(palabra)\n",
        "\n",
        "# Pedimos las dos palabras que se desean sustituir\n",
        "palabra_a_reemplazar = input(\"¿Qué palabra deseas reemplazar? \")\n",
        "palabra_nueva = input(\"¿Por qué palabra deseas reemplazarla? \")\n",
        "\n",
        "# Reemplazamos todas las ocurrencias de la palabra\n",
        "for i in range(len(palabras)):\n",
        "    if palabras[i] == palabra_a_reemplazar:\n",
        "        palabras[i] = palabra_nueva\n",
        "\n",
        "# Mostramos la lista modificada\n",
        "print(\"Lista después de la sustitución:\", palabras)\n"
      ],
      "metadata": {
        "colab": {
          "base_uri": "https://localhost:8080/"
        },
        "id": "nKKxv7QOJxwg",
        "outputId": "49cd4d2b-bcdd-457f-c129-b5bbe44dd5ef"
      },
      "execution_count": null,
      "outputs": [
        {
          "output_type": "stream",
          "name": "stdout",
          "text": [
            "¿Cuántas palabras quieres ingresar? 1\n",
            "Ingrese la palabra 1: 23\n",
            "¿Qué palabra deseas reemplazar? 12\n",
            "¿Por qué palabra deseas reemplazarla? 23\n",
            "Lista después de la sustitución: ['23']\n"
          ]
        }
      ]
    },
    {
      "cell_type": "code",
      "source": [
        "#15 Pedimos el número de palabras\n",
        "n = int(input(\"¿Cuántas palabras quieres ingresar? \"))\n",
        "\n",
        "# Creamos la lista de palabras\n",
        "palabras = []\n",
        "for i in range(n):\n",
        "    palabra = input(f\"Ingrese la palabra {i+1}: \")\n",
        "    palabras.append(palabra)\n",
        "\n",
        "# Creamos la segunda lista que será la lista al revés\n",
        "palabras_al_reves = palabras[::-1]\n",
        "\n",
        "# Mostramos la lista original y la lista invertida\n",
        "print(\"Lista original:\", palabras)\n",
        "print(\"Lista al revés:\", palabras_al_reves)\n"
      ],
      "metadata": {
        "colab": {
          "base_uri": "https://localhost:8080/"
        },
        "id": "FqgWNWBmJ3W_",
        "outputId": "3acefe16-899d-4cc4-901b-e4e44d8a6b95"
      },
      "execution_count": null,
      "outputs": [
        {
          "output_type": "stream",
          "name": "stdout",
          "text": [
            "¿Cuántas palabras quieres ingresar? 1\n",
            "Ingrese la palabra 1: 3\n",
            "Lista original: ['3']\n",
            "Lista al revés: ['3']\n"
          ]
        }
      ]
    }
  ]
}